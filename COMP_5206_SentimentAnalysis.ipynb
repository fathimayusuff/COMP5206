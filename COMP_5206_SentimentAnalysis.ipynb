{
  "nbformat": 4,
  "nbformat_minor": 0,
  "metadata": {
    "colab": {
      "name": "COMP_5206_SentimentAnalysis",
      "provenance": [],
      "collapsed_sections": [],
      "include_colab_link": true
    },
    "kernelspec": {
      "name": "python3",
      "display_name": "Python 3"
    },
    "accelerator": "GPU"
  },
  "cells": [
    {
      "cell_type": "markdown",
      "metadata": {
        "id": "view-in-github",
        "colab_type": "text"
      },
      "source": [
        "<a href=\"https://colab.research.google.com/github/fathimayusuff/COMP5206/blob/master/COMP_5206_SentimentAnalysis.ipynb\" target=\"_parent\"><img src=\"https://colab.research.google.com/assets/colab-badge.svg\" alt=\"Open In Colab\"/></a>"
      ]
    },
    {
      "cell_type": "code",
      "metadata": {
        "id": "eILPH8_wEjFe",
        "colab_type": "code",
        "colab": {
          "base_uri": "https://localhost:8080/",
          "height": 63
        },
        "outputId": "3c0a5699-2f3b-4612-cbc9-f31f9ccdf8a9"
      },
      "source": [
        "import pandas as pd\n",
        "import numpy as np\n",
        "import matplotlib.pyplot as plt\n",
        "import os\n",
        "from sklearn.model_selection import train_test_split\n",
        "from tensorflow.keras.utils import to_categorical\n",
        "import math\n",
        "%matplotlib inline\n",
        "import seaborn as sns"
      ],
      "execution_count": 2,
      "outputs": [
        {
          "output_type": "display_data",
          "data": {
            "text/html": [
              "<p style=\"color: red;\">\n",
              "The default version of TensorFlow in Colab will soon switch to TensorFlow 2.x.<br>\n",
              "We recommend you <a href=\"https://www.tensorflow.org/guide/migrate\" target=\"_blank\">upgrade</a> now \n",
              "or ensure your notebook will continue to use TensorFlow 1.x via the <code>%tensorflow_version 1.x</code> magic:\n",
              "<a href=\"https://colab.research.google.com/notebooks/tensorflow_version.ipynb\" target=\"_blank\">more info</a>.</p>\n"
            ],
            "text/plain": [
              "<IPython.core.display.HTML object>"
            ]
          },
          "metadata": {
            "tags": []
          }
        }
      ]
    },
    {
      "cell_type": "code",
      "metadata": {
        "id": "-uswTA1oVbZT",
        "colab_type": "code",
        "outputId": "ce593a62-5c2c-4b15-d499-f3fae382526d",
        "colab": {
          "base_uri": "https://localhost:8080/",
          "height": 122
        }
      },
      "source": [
        "from google.colab import drive\n",
        "drive.mount('/content/drive')"
      ],
      "execution_count": 3,
      "outputs": [
        {
          "output_type": "stream",
          "text": [
            "Go to this URL in a browser: https://accounts.google.com/o/oauth2/auth?client_id=947318989803-6bn6qk8qdgf4n4g3pfee6491hc0brc4i.apps.googleusercontent.com&redirect_uri=urn%3aietf%3awg%3aoauth%3a2.0%3aoob&response_type=code&scope=email%20https%3a%2f%2fwww.googleapis.com%2fauth%2fdocs.test%20https%3a%2f%2fwww.googleapis.com%2fauth%2fdrive%20https%3a%2f%2fwww.googleapis.com%2fauth%2fdrive.photos.readonly%20https%3a%2f%2fwww.googleapis.com%2fauth%2fpeopleapi.readonly\n",
            "\n",
            "Enter your authorization code:\n",
            "··········\n",
            "Mounted at /content/drive\n"
          ],
          "name": "stdout"
        }
      ]
    },
    {
      "cell_type": "markdown",
      "metadata": {
        "id": "nvtUC9b829pI",
        "colab_type": "text"
      },
      "source": [
        "# Twitter Data Import"
      ]
    },
    {
      "cell_type": "code",
      "metadata": {
        "id": "p5zfeT3hppA2",
        "colab_type": "code",
        "outputId": "dd1bbb5e-bbc1-427d-dd26-1c8757dd321b",
        "colab": {
          "base_uri": "https://localhost:8080/",
          "height": 898
        }
      },
      "source": [
        "data = pd.read_csv(\"/content/drive/My Drive/Tweets_air.csv\") \n",
        "data.head\n",
        "display(data)"
      ],
      "execution_count": 4,
      "outputs": [
        {
          "output_type": "display_data",
          "data": {
            "text/html": [
              "<div>\n",
              "<style scoped>\n",
              "    .dataframe tbody tr th:only-of-type {\n",
              "        vertical-align: middle;\n",
              "    }\n",
              "\n",
              "    .dataframe tbody tr th {\n",
              "        vertical-align: top;\n",
              "    }\n",
              "\n",
              "    .dataframe thead th {\n",
              "        text-align: right;\n",
              "    }\n",
              "</style>\n",
              "<table border=\"1\" class=\"dataframe\">\n",
              "  <thead>\n",
              "    <tr style=\"text-align: right;\">\n",
              "      <th></th>\n",
              "      <th>tweet_id</th>\n",
              "      <th>airline_sentiment</th>\n",
              "      <th>airline_sentiment_confidence</th>\n",
              "      <th>negativereason</th>\n",
              "      <th>negativereason_confidence</th>\n",
              "      <th>airline</th>\n",
              "      <th>airline_sentiment_gold</th>\n",
              "      <th>name</th>\n",
              "      <th>negativereason_gold</th>\n",
              "      <th>retweet_count</th>\n",
              "      <th>text</th>\n",
              "      <th>tweet_coord</th>\n",
              "      <th>tweet_created</th>\n",
              "      <th>tweet_location</th>\n",
              "      <th>user_timezone</th>\n",
              "    </tr>\n",
              "  </thead>\n",
              "  <tbody>\n",
              "    <tr>\n",
              "      <th>0</th>\n",
              "      <td>570306133677760000</td>\n",
              "      <td>neutral</td>\n",
              "      <td>1.0000</td>\n",
              "      <td>NaN</td>\n",
              "      <td>NaN</td>\n",
              "      <td>Virgin America</td>\n",
              "      <td>NaN</td>\n",
              "      <td>cairdin</td>\n",
              "      <td>NaN</td>\n",
              "      <td>0</td>\n",
              "      <td>=@VirginAmerica What @dhepburn said.</td>\n",
              "      <td>NaN</td>\n",
              "      <td>42059.483241</td>\n",
              "      <td>NaN</td>\n",
              "      <td>Eastern Time (US &amp; Canada)</td>\n",
              "    </tr>\n",
              "    <tr>\n",
              "      <th>1</th>\n",
              "      <td>570301130888122000</td>\n",
              "      <td>positive</td>\n",
              "      <td>0.3486</td>\n",
              "      <td>NaN</td>\n",
              "      <td>0.0000</td>\n",
              "      <td>Virgin America</td>\n",
              "      <td>NaN</td>\n",
              "      <td>jnardino</td>\n",
              "      <td>NaN</td>\n",
              "      <td>0</td>\n",
              "      <td>@VirginAmerica plus you've added commercials t...</td>\n",
              "      <td>NaN</td>\n",
              "      <td>42059.469433</td>\n",
              "      <td>NaN</td>\n",
              "      <td>Pacific Time (US &amp; Canada)</td>\n",
              "    </tr>\n",
              "    <tr>\n",
              "      <th>2</th>\n",
              "      <td>570301083672813000</td>\n",
              "      <td>neutral</td>\n",
              "      <td>0.6837</td>\n",
              "      <td>NaN</td>\n",
              "      <td>NaN</td>\n",
              "      <td>Virgin America</td>\n",
              "      <td>NaN</td>\n",
              "      <td>yvonnalynn</td>\n",
              "      <td>NaN</td>\n",
              "      <td>0</td>\n",
              "      <td>@VirginAmerica I didn't today... Must mean I n...</td>\n",
              "      <td>NaN</td>\n",
              "      <td>42059.469306</td>\n",
              "      <td>Lets Play</td>\n",
              "      <td>Central Time (US &amp; Canada)</td>\n",
              "    </tr>\n",
              "    <tr>\n",
              "      <th>3</th>\n",
              "      <td>570301031407624000</td>\n",
              "      <td>negative</td>\n",
              "      <td>1.0000</td>\n",
              "      <td>Bad Flight</td>\n",
              "      <td>0.7033</td>\n",
              "      <td>Virgin America</td>\n",
              "      <td>NaN</td>\n",
              "      <td>jnardino</td>\n",
              "      <td>NaN</td>\n",
              "      <td>0</td>\n",
              "      <td>@VirginAmerica it's really aggressive to blast...</td>\n",
              "      <td>NaN</td>\n",
              "      <td>42059.469167</td>\n",
              "      <td>NaN</td>\n",
              "      <td>Pacific Time (US &amp; Canada)</td>\n",
              "    </tr>\n",
              "    <tr>\n",
              "      <th>4</th>\n",
              "      <td>570300817074462000</td>\n",
              "      <td>negative</td>\n",
              "      <td>1.0000</td>\n",
              "      <td>Can't Tell</td>\n",
              "      <td>1.0000</td>\n",
              "      <td>Virgin America</td>\n",
              "      <td>NaN</td>\n",
              "      <td>jnardino</td>\n",
              "      <td>NaN</td>\n",
              "      <td>0</td>\n",
              "      <td>@VirginAmerica and it's a really big bad thing...</td>\n",
              "      <td>NaN</td>\n",
              "      <td>42059.468576</td>\n",
              "      <td>NaN</td>\n",
              "      <td>Pacific Time (US &amp; Canada)</td>\n",
              "    </tr>\n",
              "    <tr>\n",
              "      <th>...</th>\n",
              "      <td>...</td>\n",
              "      <td>...</td>\n",
              "      <td>...</td>\n",
              "      <td>...</td>\n",
              "      <td>...</td>\n",
              "      <td>...</td>\n",
              "      <td>...</td>\n",
              "      <td>...</td>\n",
              "      <td>...</td>\n",
              "      <td>...</td>\n",
              "      <td>...</td>\n",
              "      <td>...</td>\n",
              "      <td>...</td>\n",
              "      <td>...</td>\n",
              "      <td>...</td>\n",
              "    </tr>\n",
              "    <tr>\n",
              "      <th>14635</th>\n",
              "      <td>569587686496825000</td>\n",
              "      <td>positive</td>\n",
              "      <td>0.3487</td>\n",
              "      <td>NaN</td>\n",
              "      <td>0.0000</td>\n",
              "      <td>American</td>\n",
              "      <td>NaN</td>\n",
              "      <td>KristenReenders</td>\n",
              "      <td>NaN</td>\n",
              "      <td>0</td>\n",
              "      <td>=@AmericanAir Thank you we got on a different ...</td>\n",
              "      <td>NaN</td>\n",
              "      <td>42057.500706</td>\n",
              "      <td>NaN</td>\n",
              "      <td>NaN</td>\n",
              "    </tr>\n",
              "    <tr>\n",
              "      <th>14636</th>\n",
              "      <td>569587371693355000</td>\n",
              "      <td>negative</td>\n",
              "      <td>1.0000</td>\n",
              "      <td>Customer Service Issue</td>\n",
              "      <td>1.0000</td>\n",
              "      <td>American</td>\n",
              "      <td>NaN</td>\n",
              "      <td>itsropes</td>\n",
              "      <td>NaN</td>\n",
              "      <td>0</td>\n",
              "      <td>@AmericanAir leaving over 20 minutes Late Flig...</td>\n",
              "      <td>NaN</td>\n",
              "      <td>42057.499838</td>\n",
              "      <td>Texas</td>\n",
              "      <td>NaN</td>\n",
              "    </tr>\n",
              "    <tr>\n",
              "      <th>14637</th>\n",
              "      <td>569587242672398000</td>\n",
              "      <td>neutral</td>\n",
              "      <td>1.0000</td>\n",
              "      <td>NaN</td>\n",
              "      <td>NaN</td>\n",
              "      <td>American</td>\n",
              "      <td>NaN</td>\n",
              "      <td>sanyabun</td>\n",
              "      <td>NaN</td>\n",
              "      <td>0</td>\n",
              "      <td>@AmericanAir Please bring American Airlines to...</td>\n",
              "      <td>NaN</td>\n",
              "      <td>42057.499479</td>\n",
              "      <td>Nigeria,lagos</td>\n",
              "      <td>NaN</td>\n",
              "    </tr>\n",
              "    <tr>\n",
              "      <th>14638</th>\n",
              "      <td>569587188687634000</td>\n",
              "      <td>negative</td>\n",
              "      <td>1.0000</td>\n",
              "      <td>Customer Service Issue</td>\n",
              "      <td>0.6659</td>\n",
              "      <td>American</td>\n",
              "      <td>NaN</td>\n",
              "      <td>SraJackson</td>\n",
              "      <td>NaN</td>\n",
              "      <td>0</td>\n",
              "      <td>@AmericanAir you have my money, you change my ...</td>\n",
              "      <td>NaN</td>\n",
              "      <td>42057.499329</td>\n",
              "      <td>New Jersey</td>\n",
              "      <td>Eastern Time (US &amp; Canada)</td>\n",
              "    </tr>\n",
              "    <tr>\n",
              "      <th>14639</th>\n",
              "      <td>569587140490866000</td>\n",
              "      <td>neutral</td>\n",
              "      <td>0.6771</td>\n",
              "      <td>NaN</td>\n",
              "      <td>0.0000</td>\n",
              "      <td>American</td>\n",
              "      <td>NaN</td>\n",
              "      <td>daviddtwu</td>\n",
              "      <td>NaN</td>\n",
              "      <td>0</td>\n",
              "      <td>@AmericanAir we have 8 ppl so we need 2 know h...</td>\n",
              "      <td>NaN</td>\n",
              "      <td>42057.499201</td>\n",
              "      <td>dallas, TX</td>\n",
              "      <td>NaN</td>\n",
              "    </tr>\n",
              "  </tbody>\n",
              "</table>\n",
              "<p>14640 rows × 15 columns</p>\n",
              "</div>"
            ],
            "text/plain": [
              "                 tweet_id  ...               user_timezone\n",
              "0      570306133677760000  ...  Eastern Time (US & Canada)\n",
              "1      570301130888122000  ...  Pacific Time (US & Canada)\n",
              "2      570301083672813000  ...  Central Time (US & Canada)\n",
              "3      570301031407624000  ...  Pacific Time (US & Canada)\n",
              "4      570300817074462000  ...  Pacific Time (US & Canada)\n",
              "...                   ...  ...                         ...\n",
              "14635  569587686496825000  ...                         NaN\n",
              "14636  569587371693355000  ...                         NaN\n",
              "14637  569587242672398000  ...                         NaN\n",
              "14638  569587188687634000  ...  Eastern Time (US & Canada)\n",
              "14639  569587140490866000  ...                         NaN\n",
              "\n",
              "[14640 rows x 15 columns]"
            ]
          },
          "metadata": {
            "tags": []
          }
        }
      ]
    },
    {
      "cell_type": "code",
      "metadata": {
        "id": "17kf0ID-qMne",
        "colab_type": "code",
        "outputId": "53513c64-4e81-4c7a-e507-4abae3ad023e",
        "colab": {
          "base_uri": "https://localhost:8080/",
          "height": 34
        }
      },
      "source": [
        "data.shape"
      ],
      "execution_count": 5,
      "outputs": [
        {
          "output_type": "execute_result",
          "data": {
            "text/plain": [
              "(14640, 15)"
            ]
          },
          "metadata": {
            "tags": []
          },
          "execution_count": 5
        }
      ]
    },
    {
      "cell_type": "code",
      "metadata": {
        "id": "9XLGtJmEqg61",
        "colab_type": "code",
        "outputId": "78e68722-0d44-4a54-ff30-ddb26c56a4a3",
        "colab": {
          "base_uri": "https://localhost:8080/",
          "height": 289
        }
      },
      "source": [
        "data.isnull().sum()"
      ],
      "execution_count": 6,
      "outputs": [
        {
          "output_type": "execute_result",
          "data": {
            "text/plain": [
              "tweet_id                            0\n",
              "airline_sentiment                   0\n",
              "airline_sentiment_confidence        0\n",
              "negativereason                   5462\n",
              "negativereason_confidence        4118\n",
              "airline                             0\n",
              "airline_sentiment_gold          14600\n",
              "name                                0\n",
              "negativereason_gold             14608\n",
              "retweet_count                       0\n",
              "text                                0\n",
              "tweet_coord                     13621\n",
              "tweet_created                       0\n",
              "tweet_location                   4733\n",
              "user_timezone                    4820\n",
              "dtype: int64"
            ]
          },
          "metadata": {
            "tags": []
          },
          "execution_count": 6
        }
      ]
    },
    {
      "cell_type": "code",
      "metadata": {
        "id": "6RGqHGcfqi6V",
        "colab_type": "code",
        "outputId": "c971ef7a-8e44-418e-941a-d8a0b591149e",
        "colab": {
          "base_uri": "https://localhost:8080/",
          "height": 204
        }
      },
      "source": [
        "data[['text', 'airline_sentiment']].head()"
      ],
      "execution_count": 7,
      "outputs": [
        {
          "output_type": "execute_result",
          "data": {
            "text/html": [
              "<div>\n",
              "<style scoped>\n",
              "    .dataframe tbody tr th:only-of-type {\n",
              "        vertical-align: middle;\n",
              "    }\n",
              "\n",
              "    .dataframe tbody tr th {\n",
              "        vertical-align: top;\n",
              "    }\n",
              "\n",
              "    .dataframe thead th {\n",
              "        text-align: right;\n",
              "    }\n",
              "</style>\n",
              "<table border=\"1\" class=\"dataframe\">\n",
              "  <thead>\n",
              "    <tr style=\"text-align: right;\">\n",
              "      <th></th>\n",
              "      <th>text</th>\n",
              "      <th>airline_sentiment</th>\n",
              "    </tr>\n",
              "  </thead>\n",
              "  <tbody>\n",
              "    <tr>\n",
              "      <th>0</th>\n",
              "      <td>=@VirginAmerica What @dhepburn said.</td>\n",
              "      <td>neutral</td>\n",
              "    </tr>\n",
              "    <tr>\n",
              "      <th>1</th>\n",
              "      <td>@VirginAmerica plus you've added commercials t...</td>\n",
              "      <td>positive</td>\n",
              "    </tr>\n",
              "    <tr>\n",
              "      <th>2</th>\n",
              "      <td>@VirginAmerica I didn't today... Must mean I n...</td>\n",
              "      <td>neutral</td>\n",
              "    </tr>\n",
              "    <tr>\n",
              "      <th>3</th>\n",
              "      <td>@VirginAmerica it's really aggressive to blast...</td>\n",
              "      <td>negative</td>\n",
              "    </tr>\n",
              "    <tr>\n",
              "      <th>4</th>\n",
              "      <td>@VirginAmerica and it's a really big bad thing...</td>\n",
              "      <td>negative</td>\n",
              "    </tr>\n",
              "  </tbody>\n",
              "</table>\n",
              "</div>"
            ],
            "text/plain": [
              "                                                text airline_sentiment\n",
              "0               =@VirginAmerica What @dhepburn said.           neutral\n",
              "1  @VirginAmerica plus you've added commercials t...          positive\n",
              "2  @VirginAmerica I didn't today... Must mean I n...           neutral\n",
              "3  @VirginAmerica it's really aggressive to blast...          negative\n",
              "4  @VirginAmerica and it's a really big bad thing...          negative"
            ]
          },
          "metadata": {
            "tags": []
          },
          "execution_count": 7
        }
      ]
    },
    {
      "cell_type": "code",
      "metadata": {
        "id": "ePz6Z38Eqo-4",
        "colab_type": "code",
        "outputId": "e1536e09-0b1a-4956-a83b-ed13c001cb7a",
        "colab": {
          "base_uri": "https://localhost:8080/",
          "height": 85
        }
      },
      "source": [
        "data['airline_sentiment'].value_counts()"
      ],
      "execution_count": 8,
      "outputs": [
        {
          "output_type": "execute_result",
          "data": {
            "text/plain": [
              "negative    9178\n",
              "neutral     3099\n",
              "positive    2363\n",
              "Name: airline_sentiment, dtype: int64"
            ]
          },
          "metadata": {
            "tags": []
          },
          "execution_count": 8
        }
      ]
    },
    {
      "cell_type": "code",
      "metadata": {
        "id": "BHfNInUo3D6D",
        "colab_type": "code",
        "outputId": "c02694c0-d124-431d-b141-e8182e68c7b0",
        "colab": {
          "base_uri": "https://localhost:8080/",
          "height": 353
        }
      },
      "source": [
        "plt.rcParams['figure.figsize'] = (7, 5)\n",
        "size = [10551, 1694]\n",
        "sns.countplot(data['airline_sentiment'], palette = 'inferno')\n",
        "plt.title('Sentiments', fontsize = 12)\n",
        "plt.xlabel('Sentiment_type ', fontsize = 12)\n",
        "plt.ylabel('count', fontsize = 12)\n",
        "plt.show()"
      ],
      "execution_count": 9,
      "outputs": [
        {
          "output_type": "display_data",
          "data": {
            "image/png": "[encoded data removed]",
            "text/plain": [
              "<Figure size 504x360 with 1 Axes>"
            ]
          },
          "metadata": {
            "tags": []
          }
        }
      ]
    },
    {
      "cell_type": "code",
      "metadata": {
        "id": "yAiu-QEm6vKa",
        "colab_type": "code",
        "outputId": "c9b78bee-e2d1-4685-e735-762b794e4c79",
        "colab": {
          "base_uri": "https://localhost:8080/",
          "height": 353
        }
      },
      "source": [
        "plt.rcParams['figure.figsize'] = (7, 5)\n",
        "size = [10551, 1694]\n",
        "sns.countplot(data['airline'], palette = 'inferno')\n",
        "plt.title('Sentiments', fontsize = 12)\n",
        "plt.xlabel('Sentiment_type ', fontsize = 12)\n",
        "plt.ylabel('count', fontsize = 12)\n",
        "plt.show()"
      ],
      "execution_count": 10,
      "outputs": [
        {
          "output_type": "display_data",
          "data": {
            "image/png": "[encoded data removed]",
            "text/plain": [
              "<Figure size 504x360 with 1 Axes>"
            ]
          },
          "metadata": {
            "tags": []
          }
        }
      ]
    },
    {
      "cell_type": "code",
      "metadata": {
        "id": "K8B1s820qtrX",
        "colab_type": "code",
        "colab": {}
      },
      "source": [
        "data['airline_sentiment'] = data['airline_sentiment'].replace('neutral', 1)\n",
        "data['airline_sentiment'] = data['airline_sentiment'].replace('negative', 0)\n",
        "data['airline_sentiment'] = data['airline_sentiment'].replace('positive', 2)"
      ],
      "execution_count": 0,
      "outputs": []
    },
    {
      "cell_type": "code",
      "metadata": {
        "id": "5RmB-Yytq32s",
        "colab_type": "code",
        "colab": {}
      },
      "source": [
        "X = data['text'] # data\n",
        "y = data['airline_sentiment'] # labels"
      ],
      "execution_count": 0,
      "outputs": []
    },
    {
      "cell_type": "code",
      "metadata": {
        "id": "rP3Uuw3iq6f0",
        "colab_type": "code",
        "colab": {}
      },
      "source": [
        "from tensorflow.keras.preprocessing.text import Tokenizer\n",
        "from tensorflow.keras.preprocessing.text import text_to_word_sequence"
      ],
      "execution_count": 0,
      "outputs": []
    },
    {
      "cell_type": "code",
      "metadata": {
        "id": "AARQT_7lq-hO",
        "colab_type": "code",
        "colab": {}
      },
      "source": [
        "t = Tokenizer()\n",
        "t.fit_on_texts(X)"
      ],
      "execution_count": 0,
      "outputs": []
    },
    {
      "cell_type": "code",
      "metadata": {
        "id": "S-VoNzNDrNu5",
        "colab_type": "code",
        "outputId": "b68d67ab-413e-4bb7-9fd9-641e3ae42523",
        "colab": {
          "base_uri": "https://localhost:8080/",
          "height": 34
        }
      },
      "source": [
        "vocab_size = len(t.word_index) + 1\n",
        "vocab_size"
      ],
      "execution_count": 15,
      "outputs": [
        {
          "output_type": "execute_result",
          "data": {
            "text/plain": [
              "15776"
            ]
          },
          "metadata": {
            "tags": []
          },
          "execution_count": 15
        }
      ]
    },
    {
      "cell_type": "code",
      "metadata": {
        "id": "H8OC22M8rOnL",
        "colab_type": "code",
        "colab": {}
      },
      "source": [
        "sequences = t.texts_to_sequences(X)"
      ],
      "execution_count": 0,
      "outputs": []
    },
    {
      "cell_type": "code",
      "metadata": {
        "id": "h36JJgaWrQaC",
        "colab_type": "code",
        "colab": {}
      },
      "source": [
        "def max_tweet():\n",
        "    for i in range(1, len(sequences)):\n",
        "        max_length = len(sequences[0])\n",
        "        if len(sequences[i]) > max_length:\n",
        "            max_length = len(sequences[i])\n",
        "    return max_length"
      ],
      "execution_count": 0,
      "outputs": []
    },
    {
      "cell_type": "code",
      "metadata": {
        "id": "iUdmrw3SrSqw",
        "colab_type": "code",
        "outputId": "ed6c00bc-28ba-4a6e-df49-86531c5eeca0",
        "colab": {
          "base_uri": "https://localhost:8080/",
          "height": 34
        }
      },
      "source": [
        "tweet_num = max_tweet()\n",
        "tweet_num"
      ],
      "execution_count": 18,
      "outputs": [
        {
          "output_type": "execute_result",
          "data": {
            "text/plain": [
              "30"
            ]
          },
          "metadata": {
            "tags": []
          },
          "execution_count": 18
        }
      ]
    },
    {
      "cell_type": "code",
      "metadata": {
        "id": "CT-w0SNgxziY",
        "colab_type": "code",
        "colab": {}
      },
      "source": [
        "from tensorflow.keras.preprocessing.sequence import pad_sequences\n",
        "maxlen = tweet_num\n",
        "padded_X = pad_sequences(sequences, padding='post', maxlen=maxlen)"
      ],
      "execution_count": 0,
      "outputs": []
    },
    {
      "cell_type": "code",
      "metadata": {
        "id": "GmOlRZZwrfmi",
        "colab_type": "code",
        "colab": {}
      },
      "source": [
        "labels = to_categorical(np.asarray(y))"
      ],
      "execution_count": 0,
      "outputs": []
    },
    {
      "cell_type": "code",
      "metadata": {
        "id": "J2xsjhserY0_",
        "colab_type": "code",
        "colab": {}
      },
      "source": [
        "from sklearn.model_selection import train_test_split\n",
        "\n",
        "X_train, X_test, y_train, y_test = train_test_split(padded_X, labels, test_size = 0.2, random_state = 0)"
      ],
      "execution_count": 0,
      "outputs": []
    },
    {
      "cell_type": "code",
      "metadata": {
        "id": "RcdAxgrYriNq",
        "colab_type": "code",
        "outputId": "97c1359f-977e-42e2-e900-caf7497c3a48",
        "colab": {
          "base_uri": "https://localhost:8080/",
          "height": 85
        }
      },
      "source": [
        "print('X_train size:', X_train.shape)\n",
        "print('y_train size:', y_train.shape)\n",
        "print('X_test size:', X_test.shape)\n",
        "print('y_test size:', y_test.shape)"
      ],
      "execution_count": 22,
      "outputs": [
        {
          "output_type": "stream",
          "text": [
            "X_train size: (11712, 30)\n",
            "y_train size: (11712, 3)\n",
            "X_test size: (2928, 30)\n",
            "y_test size: (2928, 3)\n"
          ],
          "name": "stdout"
        }
      ]
    },
    {
      "cell_type": "markdown",
      "metadata": {
        "id": "XnB5ya7L_6P5",
        "colab_type": "text"
      },
      "source": [
        "Glove embedding"
      ]
    },
    {
      "cell_type": "code",
      "metadata": {
        "id": "RrIf7CqvtpPX",
        "colab_type": "code",
        "colab": {}
      },
      "source": [
        "f = open('/content/drive/My Drive/glove.6B.100d.txt')"
      ],
      "execution_count": 0,
      "outputs": []
    },
    {
      "cell_type": "code",
      "metadata": {
        "id": "DvUQSRKktm0B",
        "colab_type": "code",
        "outputId": "64004f6d-42c6-4ecc-ef19-d6316c0f27db",
        "colab": {
          "base_uri": "https://localhost:8080/",
          "height": 34
        }
      },
      "source": [
        "embeddings_index = dict()\n",
        "for line in f:\n",
        "    values = line.split()\n",
        "    word = values[0]\n",
        "    coefs = np.asarray(values[1:], dtype='float32')\n",
        "    embeddings_index[word] = coefs\n",
        "f.close()\n",
        "print('Loaded %s word vectors.' % len(embeddings_index))"
      ],
      "execution_count": 24,
      "outputs": [
        {
          "output_type": "stream",
          "text": [
            "Loaded 400000 word vectors.\n"
          ],
          "name": "stdout"
        }
      ]
    },
    {
      "cell_type": "code",
      "metadata": {
        "id": "dlnlXYc1vdrV",
        "colab_type": "code",
        "colab": {}
      },
      "source": [
        "# Define size of embedding matrix: number of unique words x embedding dim (100)\n",
        "embedding_matrix = np.zeros((vocab_size, 100))\n",
        "\n",
        "# fill in matrix\n",
        "for word, i in t.word_index.items():  # dictionary\n",
        "    embedding_vector = embeddings_index.get(word) # gets embedded vector of word from GloVe\n",
        "    if embedding_vector is not None:\n",
        "        # add to matrix\n",
        "        embedding_matrix[i] = embedding_vector # each row of matrix\n"
      ],
      "execution_count": 0,
      "outputs": []
    },
    {
      "cell_type": "code",
      "metadata": {
        "id": "xyyy3KZOviXJ",
        "colab_type": "code",
        "outputId": "be5be2a3-5497-4427-81c3-3353fbd0caab",
        "colab": {
          "base_uri": "https://localhost:8080/",
          "height": 88
        }
      },
      "source": [
        "from tensorflow.keras.layers import Embedding\n",
        "\n",
        "# input is vocab_size, output is 100\n",
        "# weights from embedding matrix, set trainable = False\n",
        "embedding_layer = Embedding(input_dim=vocab_size, output_dim=100, weights=[embedding_matrix],\n",
        "                           input_length = tweet_num, trainable=False)"
      ],
      "execution_count": 26,
      "outputs": [
        {
          "output_type": "stream",
          "text": [
            "WARNING:tensorflow:From /usr/local/lib/python3.6/dist-packages/tensorflow_core/python/keras/initializers.py:119: calling RandomUniform.__init__ (from tensorflow.python.ops.init_ops) with dtype is deprecated and will be removed in a future version.\n",
            "Instructions for updating:\n",
            "Call initializer instance with the dtype argument instead of passing it to the constructor\n"
          ],
          "name": "stdout"
        }
      ]
    },
    {
      "cell_type": "code",
      "metadata": {
        "id": "Us6ijYKqvqCb",
        "colab_type": "code",
        "outputId": "000dd09d-4984-43c3-bd25-981c2f85f0e5",
        "colab": {
          "base_uri": "https://localhost:8080/",
          "height": 34
        }
      },
      "source": [
        "from tensorflow.keras.models import Sequential\n",
        "from tensorflow.keras.layers import Dense\n",
        "from tensorflow.keras.layers import Flatten\n",
        "from tensorflow.keras.layers import LSTM\n",
        "from tensorflow.keras.layers import GRU\n",
        "from tensorflow.keras.layers import BatchNormalization\n",
        "from tensorflow import keras\n",
        "from keras import layers\n",
        "from tensorflow.keras.layers import Conv1D, GlobalMaxPooling1D\n"
      ],
      "execution_count": 27,
      "outputs": [
        {
          "output_type": "stream",
          "text": [
            "Using TensorFlow backend.\n"
          ],
          "name": "stderr"
        }
      ]
    },
    {
      "cell_type": "markdown",
      "metadata": {
        "id": "M2Je4ctxABjR",
        "colab_type": "text"
      },
      "source": [
        "# Simple LSTM"
      ]
    },
    {
      "cell_type": "code",
      "metadata": {
        "id": "3yRsvAvDvrDA",
        "colab_type": "code",
        "outputId": "bdf81e16-9a34-47c0-a44c-e0743783d71a",
        "colab": {
          "base_uri": "https://localhost:8080/",
          "height": 326
        }
      },
      "source": [
        "lstm_mod1 = Sequential()\n",
        "lstm_mod1.add(embedding_layer)\n",
        "lstm_mod1.add(LSTM(256, dropout = 0.4, \n",
        "               recurrent_dropout = 0.5))\n",
        "lstm_mod1.add(Dense(3, activation='softmax'))\n",
        "lstm_mod1.compile(optimizer='adam', loss='categorical_crossentropy', metrics=['acc'])\n",
        "lstm_mod1.summary()"
      ],
      "execution_count": 28,
      "outputs": [
        {
          "output_type": "stream",
          "text": [
            "WARNING:tensorflow:From /usr/local/lib/python3.6/dist-packages/tensorflow_core/python/ops/resource_variable_ops.py:1630: calling BaseResourceVariable.__init__ (from tensorflow.python.ops.resource_variable_ops) with constraint is deprecated and will be removed in a future version.\n",
            "Instructions for updating:\n",
            "If using Keras pass *_constraint arguments to layers.\n",
            "Model: \"sequential\"\n",
            "_________________________________________________________________\n",
            "Layer (type)                 Output Shape              Param #   \n",
            "=================================================================\n",
            "embedding (Embedding)        (None, 30, 100)           1577600   \n",
            "_________________________________________________________________\n",
            "lstm (LSTM)                  (None, 256)               365568    \n",
            "_________________________________________________________________\n",
            "dense (Dense)                (None, 3)                 771       \n",
            "=================================================================\n",
            "Total params: 1,943,939\n",
            "Trainable params: 366,339\n",
            "Non-trainable params: 1,577,600\n",
            "_________________________________________________________________\n"
          ],
          "name": "stdout"
        }
      ]
    },
    {
      "cell_type": "code",
      "metadata": {
        "id": "HBLH2SMgvuqZ",
        "colab_type": "code",
        "outputId": "a63de324-1e34-495f-a9b0-183331bc248e",
        "colab": {
          "base_uri": "https://localhost:8080/",
          "height": 1000
        }
      },
      "source": [
        "hist_1 = lstm_mod1.fit(X_train, y_train,\n",
        "                    validation_split = 0.2,\n",
        "                    epochs=100, batch_size=256)"
      ],
      "execution_count": 29,
      "outputs": [
        {
          "output_type": "stream",
          "text": [
            "WARNING:tensorflow:From /usr/local/lib/python3.6/dist-packages/tensorflow_core/python/ops/math_grad.py:1424: where (from tensorflow.python.ops.array_ops) is deprecated and will be removed in a future version.\n",
            "Instructions for updating:\n",
            "Use tf.where in 2.0, which has the same broadcast rule as np.where\n",
            "Train on 9369 samples, validate on 2343 samples\n",
            "Epoch 1/100\n",
            "9369/9369 [==============================] - 4s 404us/sample - loss: 0.8723 - acc: 0.6184 - val_loss: 0.8380 - val_acc: 0.6402\n",
            "Epoch 2/100\n",
            "9369/9369 [==============================] - 2s 184us/sample - loss: 0.8219 - acc: 0.6548 - val_loss: 0.7507 - val_acc: 0.6914\n",
            "Epoch 3/100\n",
            "9369/9369 [==============================] - 2s 182us/sample - loss: 0.7737 - acc: 0.6834 - val_loss: 0.6995 - val_acc: 0.7187\n",
            "Epoch 4/100\n",
            "9369/9369 [==============================] - 2s 182us/sample - loss: 0.7548 - acc: 0.6936 - val_loss: 0.6789 - val_acc: 0.7303\n",
            "Epoch 5/100\n",
            "9369/9369 [==============================] - 2s 182us/sample - loss: 0.7326 - acc: 0.7015 - val_loss: 0.6607 - val_acc: 0.7384\n",
            "Epoch 6/100\n",
            "9369/9369 [==============================] - 2s 185us/sample - loss: 0.7062 - acc: 0.7095 - val_loss: 0.6402 - val_acc: 0.7542\n",
            "Epoch 7/100\n",
            "9369/9369 [==============================] - 2s 185us/sample - loss: 0.6987 - acc: 0.7173 - val_loss: 0.6291 - val_acc: 0.7414\n",
            "Epoch 8/100\n",
            "9369/9369 [==============================] - 2s 182us/sample - loss: 0.6826 - acc: 0.7221 - val_loss: 0.6395 - val_acc: 0.7388\n",
            "Epoch 9/100\n",
            "9369/9369 [==============================] - 2s 186us/sample - loss: 0.6632 - acc: 0.7262 - val_loss: 0.6080 - val_acc: 0.7563\n",
            "Epoch 10/100\n",
            "9369/9369 [==============================] - 2s 187us/sample - loss: 0.6528 - acc: 0.7372 - val_loss: 0.5867 - val_acc: 0.7627\n",
            "Epoch 11/100\n",
            "9369/9369 [==============================] - 2s 182us/sample - loss: 0.6344 - acc: 0.7411 - val_loss: 0.5825 - val_acc: 0.7584\n",
            "Epoch 12/100\n",
            "9369/9369 [==============================] - 2s 178us/sample - loss: 0.6265 - acc: 0.7455 - val_loss: 0.5904 - val_acc: 0.7542\n",
            "Epoch 13/100\n",
            "9369/9369 [==============================] - 2s 182us/sample - loss: 0.6228 - acc: 0.7486 - val_loss: 0.5723 - val_acc: 0.7657\n",
            "Epoch 14/100\n",
            "9369/9369 [==============================] - 2s 195us/sample - loss: 0.6056 - acc: 0.7523 - val_loss: 0.5626 - val_acc: 0.7738\n",
            "Epoch 15/100\n",
            "9369/9369 [==============================] - 2s 186us/sample - loss: 0.5983 - acc: 0.7543 - val_loss: 0.5577 - val_acc: 0.7708\n",
            "Epoch 16/100\n",
            "9369/9369 [==============================] - 2s 183us/sample - loss: 0.5940 - acc: 0.7571 - val_loss: 0.5438 - val_acc: 0.7785\n",
            "Epoch 17/100\n",
            "9369/9369 [==============================] - 2s 188us/sample - loss: 0.5887 - acc: 0.7607 - val_loss: 0.5500 - val_acc: 0.7712\n",
            "Epoch 18/100\n",
            "9369/9369 [==============================] - 2s 186us/sample - loss: 0.5765 - acc: 0.7657 - val_loss: 0.5496 - val_acc: 0.7755\n",
            "Epoch 19/100\n",
            "9369/9369 [==============================] - 2s 187us/sample - loss: 0.5704 - acc: 0.7667 - val_loss: 0.5327 - val_acc: 0.7815\n",
            "Epoch 20/100\n",
            "9369/9369 [==============================] - 2s 178us/sample - loss: 0.5745 - acc: 0.7667 - val_loss: 0.5354 - val_acc: 0.7793\n",
            "Epoch 21/100\n",
            "9369/9369 [==============================] - 2s 179us/sample - loss: 0.5611 - acc: 0.7700 - val_loss: 0.5307 - val_acc: 0.7828\n",
            "Epoch 22/100\n",
            "9369/9369 [==============================] - 2s 177us/sample - loss: 0.5524 - acc: 0.7775 - val_loss: 0.5320 - val_acc: 0.7789\n",
            "Epoch 23/100\n",
            "9369/9369 [==============================] - 2s 181us/sample - loss: 0.5518 - acc: 0.7748 - val_loss: 0.5265 - val_acc: 0.7862\n",
            "Epoch 24/100\n",
            "9369/9369 [==============================] - 2s 179us/sample - loss: 0.5395 - acc: 0.7780 - val_loss: 0.5185 - val_acc: 0.7896\n",
            "Epoch 25/100\n",
            "9369/9369 [==============================] - 2s 181us/sample - loss: 0.5296 - acc: 0.7852 - val_loss: 0.5183 - val_acc: 0.7934\n",
            "Epoch 26/100\n",
            "9369/9369 [==============================] - 2s 180us/sample - loss: 0.5385 - acc: 0.7847 - val_loss: 0.5117 - val_acc: 0.7913\n",
            "Epoch 27/100\n",
            "9369/9369 [==============================] - 2s 181us/sample - loss: 0.5327 - acc: 0.7831 - val_loss: 0.5177 - val_acc: 0.7921\n",
            "Epoch 28/100\n",
            "9369/9369 [==============================] - 2s 179us/sample - loss: 0.5311 - acc: 0.7840 - val_loss: 0.5124 - val_acc: 0.8007\n",
            "Epoch 29/100\n",
            "9369/9369 [==============================] - 2s 179us/sample - loss: 0.5252 - acc: 0.7880 - val_loss: 0.5141 - val_acc: 0.7968\n",
            "Epoch 30/100\n",
            "9369/9369 [==============================] - 2s 172us/sample - loss: 0.5237 - acc: 0.7882 - val_loss: 0.5097 - val_acc: 0.7956\n",
            "Epoch 31/100\n",
            "9369/9369 [==============================] - 2s 182us/sample - loss: 0.5161 - acc: 0.7919 - val_loss: 0.5073 - val_acc: 0.7990\n",
            "Epoch 32/100\n",
            "9369/9369 [==============================] - 2s 179us/sample - loss: 0.5120 - acc: 0.7944 - val_loss: 0.4986 - val_acc: 0.7981\n",
            "Epoch 33/100\n",
            "9369/9369 [==============================] - 2s 178us/sample - loss: 0.5063 - acc: 0.7919 - val_loss: 0.4997 - val_acc: 0.8067\n",
            "Epoch 34/100\n",
            "9369/9369 [==============================] - 2s 186us/sample - loss: 0.5048 - acc: 0.7914 - val_loss: 0.5069 - val_acc: 0.7990\n",
            "Epoch 35/100\n",
            "9369/9369 [==============================] - 2s 177us/sample - loss: 0.4899 - acc: 0.7994 - val_loss: 0.5001 - val_acc: 0.8032\n",
            "Epoch 36/100\n",
            "9369/9369 [==============================] - 2s 182us/sample - loss: 0.4982 - acc: 0.7990 - val_loss: 0.5143 - val_acc: 0.8011\n",
            "Epoch 37/100\n",
            "9369/9369 [==============================] - 2s 181us/sample - loss: 0.4900 - acc: 0.8058 - val_loss: 0.5007 - val_acc: 0.7960\n",
            "Epoch 38/100\n",
            "9369/9369 [==============================] - 2s 181us/sample - loss: 0.4907 - acc: 0.8049 - val_loss: 0.4964 - val_acc: 0.8024\n",
            "Epoch 39/100\n",
            "9369/9369 [==============================] - 2s 183us/sample - loss: 0.4863 - acc: 0.8104 - val_loss: 0.4999 - val_acc: 0.8067\n",
            "Epoch 40/100\n",
            "9369/9369 [==============================] - 2s 179us/sample - loss: 0.4840 - acc: 0.8068 - val_loss: 0.4928 - val_acc: 0.8131\n",
            "Epoch 41/100\n",
            "9369/9369 [==============================] - 2s 182us/sample - loss: 0.4762 - acc: 0.8110 - val_loss: 0.4950 - val_acc: 0.8101\n",
            "Epoch 42/100\n",
            "9369/9369 [==============================] - 2s 180us/sample - loss: 0.4751 - acc: 0.8080 - val_loss: 0.4906 - val_acc: 0.8101\n",
            "Epoch 43/100\n",
            "9369/9369 [==============================] - 2s 180us/sample - loss: 0.4655 - acc: 0.8152 - val_loss: 0.4913 - val_acc: 0.8054\n",
            "Epoch 44/100\n",
            "9369/9369 [==============================] - 2s 179us/sample - loss: 0.4679 - acc: 0.8099 - val_loss: 0.4910 - val_acc: 0.8054\n",
            "Epoch 45/100\n",
            "9369/9369 [==============================] - 2s 183us/sample - loss: 0.4628 - acc: 0.8145 - val_loss: 0.5010 - val_acc: 0.8067\n",
            "Epoch 46/100\n",
            "9369/9369 [==============================] - 2s 184us/sample - loss: 0.4581 - acc: 0.8152 - val_loss: 0.4897 - val_acc: 0.8062\n",
            "Epoch 47/100\n",
            "9369/9369 [==============================] - 2s 181us/sample - loss: 0.4572 - acc: 0.8178 - val_loss: 0.4886 - val_acc: 0.8126\n",
            "Epoch 48/100\n",
            "9369/9369 [==============================] - 2s 184us/sample - loss: 0.4500 - acc: 0.8181 - val_loss: 0.4976 - val_acc: 0.8114\n",
            "Epoch 49/100\n",
            "9369/9369 [==============================] - 2s 189us/sample - loss: 0.4455 - acc: 0.8254 - val_loss: 0.4978 - val_acc: 0.8024\n",
            "Epoch 50/100\n",
            "9369/9369 [==============================] - 2s 184us/sample - loss: 0.4424 - acc: 0.8216 - val_loss: 0.4969 - val_acc: 0.8084\n",
            "Epoch 51/100\n",
            "9369/9369 [==============================] - 2s 186us/sample - loss: 0.4427 - acc: 0.8241 - val_loss: 0.4843 - val_acc: 0.8126\n",
            "Epoch 52/100\n",
            "9369/9369 [==============================] - 2s 181us/sample - loss: 0.4414 - acc: 0.8271 - val_loss: 0.4950 - val_acc: 0.8160\n",
            "Epoch 53/100\n",
            "9369/9369 [==============================] - 2s 184us/sample - loss: 0.4353 - acc: 0.8288 - val_loss: 0.4865 - val_acc: 0.8131\n",
            "Epoch 54/100\n",
            "9369/9369 [==============================] - 2s 179us/sample - loss: 0.4344 - acc: 0.8272 - val_loss: 0.4947 - val_acc: 0.8071\n",
            "Epoch 55/100\n",
            "9369/9369 [==============================] - 2s 182us/sample - loss: 0.4352 - acc: 0.8286 - val_loss: 0.4875 - val_acc: 0.8195\n",
            "Epoch 56/100\n",
            "9369/9369 [==============================] - 2s 180us/sample - loss: 0.4258 - acc: 0.8307 - val_loss: 0.4920 - val_acc: 0.8126\n",
            "Epoch 57/100\n",
            "9369/9369 [==============================] - 2s 180us/sample - loss: 0.4310 - acc: 0.8279 - val_loss: 0.4932 - val_acc: 0.8148\n",
            "Epoch 58/100\n",
            "9369/9369 [==============================] - 2s 177us/sample - loss: 0.4203 - acc: 0.8326 - val_loss: 0.4922 - val_acc: 0.8118\n",
            "Epoch 59/100\n",
            "9369/9369 [==============================] - 2s 181us/sample - loss: 0.4164 - acc: 0.8331 - val_loss: 0.4985 - val_acc: 0.8143\n",
            "Epoch 60/100\n",
            "9369/9369 [==============================] - 2s 180us/sample - loss: 0.4208 - acc: 0.8330 - val_loss: 0.4991 - val_acc: 0.8058\n",
            "Epoch 61/100\n",
            "9369/9369 [==============================] - 2s 176us/sample - loss: 0.4070 - acc: 0.8392 - val_loss: 0.5048 - val_acc: 0.8195\n",
            "Epoch 62/100\n",
            "9369/9369 [==============================] - 2s 178us/sample - loss: 0.4074 - acc: 0.8377 - val_loss: 0.4867 - val_acc: 0.8105\n",
            "Epoch 63/100\n",
            "9369/9369 [==============================] - 2s 183us/sample - loss: 0.4044 - acc: 0.8377 - val_loss: 0.4998 - val_acc: 0.8122\n",
            "Epoch 64/100\n",
            "9369/9369 [==============================] - 2s 183us/sample - loss: 0.4022 - acc: 0.8426 - val_loss: 0.5116 - val_acc: 0.8139\n",
            "Epoch 65/100\n",
            "9369/9369 [==============================] - 2s 182us/sample - loss: 0.3951 - acc: 0.8427 - val_loss: 0.4963 - val_acc: 0.8178\n",
            "Epoch 66/100\n",
            "9369/9369 [==============================] - 2s 180us/sample - loss: 0.3984 - acc: 0.8416 - val_loss: 0.5018 - val_acc: 0.8126\n",
            "Epoch 67/100\n",
            "9369/9369 [==============================] - 2s 182us/sample - loss: 0.3922 - acc: 0.8453 - val_loss: 0.5058 - val_acc: 0.8088\n",
            "Epoch 68/100\n",
            "9369/9369 [==============================] - 2s 179us/sample - loss: 0.3879 - acc: 0.8481 - val_loss: 0.5078 - val_acc: 0.8182\n",
            "Epoch 69/100\n",
            "9369/9369 [==============================] - 2s 180us/sample - loss: 0.3895 - acc: 0.8494 - val_loss: 0.5077 - val_acc: 0.8131\n",
            "Epoch 70/100\n",
            "9369/9369 [==============================] - 2s 180us/sample - loss: 0.3845 - acc: 0.8524 - val_loss: 0.5057 - val_acc: 0.8131\n",
            "Epoch 71/100\n",
            "9369/9369 [==============================] - 2s 179us/sample - loss: 0.3783 - acc: 0.8504 - val_loss: 0.5064 - val_acc: 0.8131\n",
            "Epoch 72/100\n",
            "9369/9369 [==============================] - 2s 177us/sample - loss: 0.3788 - acc: 0.8519 - val_loss: 0.5126 - val_acc: 0.8105\n",
            "Epoch 73/100\n",
            "9369/9369 [==============================] - 2s 177us/sample - loss: 0.3725 - acc: 0.8570 - val_loss: 0.5298 - val_acc: 0.8190\n",
            "Epoch 74/100\n",
            "9369/9369 [==============================] - 2s 178us/sample - loss: 0.3726 - acc: 0.8556 - val_loss: 0.5050 - val_acc: 0.8101\n",
            "Epoch 75/100\n",
            "9369/9369 [==============================] - 2s 176us/sample - loss: 0.3641 - acc: 0.8587 - val_loss: 0.5068 - val_acc: 0.8148\n",
            "Epoch 76/100\n",
            "9369/9369 [==============================] - 2s 180us/sample - loss: 0.3680 - acc: 0.8535 - val_loss: 0.5161 - val_acc: 0.8131\n",
            "Epoch 77/100\n",
            "9369/9369 [==============================] - 2s 177us/sample - loss: 0.3754 - acc: 0.8527 - val_loss: 0.5214 - val_acc: 0.8165\n",
            "Epoch 78/100\n",
            "9369/9369 [==============================] - 2s 177us/sample - loss: 0.3618 - acc: 0.8567 - val_loss: 0.5044 - val_acc: 0.8079\n",
            "Epoch 79/100\n",
            "9369/9369 [==============================] - 2s 179us/sample - loss: 0.3616 - acc: 0.8602 - val_loss: 0.5475 - val_acc: 0.8195\n",
            "Epoch 80/100\n",
            "9369/9369 [==============================] - 2s 176us/sample - loss: 0.3632 - acc: 0.8583 - val_loss: 0.5099 - val_acc: 0.8178\n",
            "Epoch 81/100\n",
            "9369/9369 [==============================] - 2s 179us/sample - loss: 0.3571 - acc: 0.8601 - val_loss: 0.5058 - val_acc: 0.8028\n",
            "Epoch 82/100\n",
            "9369/9369 [==============================] - 2s 184us/sample - loss: 0.3546 - acc: 0.8612 - val_loss: 0.5256 - val_acc: 0.8203\n",
            "Epoch 83/100\n",
            "9369/9369 [==============================] - 2s 180us/sample - loss: 0.3516 - acc: 0.8625 - val_loss: 0.5154 - val_acc: 0.8212\n",
            "Epoch 84/100\n",
            "9369/9369 [==============================] - 2s 182us/sample - loss: 0.3498 - acc: 0.8678 - val_loss: 0.5307 - val_acc: 0.8182\n",
            "Epoch 85/100\n",
            "9369/9369 [==============================] - 2s 183us/sample - loss: 0.3521 - acc: 0.8639 - val_loss: 0.5281 - val_acc: 0.8169\n",
            "Epoch 86/100\n",
            "9369/9369 [==============================] - 2s 183us/sample - loss: 0.3399 - acc: 0.8681 - val_loss: 0.5217 - val_acc: 0.8139\n",
            "Epoch 87/100\n",
            "9369/9369 [==============================] - 2s 180us/sample - loss: 0.3389 - acc: 0.8662 - val_loss: 0.5226 - val_acc: 0.8152\n",
            "Epoch 88/100\n",
            "9369/9369 [==============================] - 2s 180us/sample - loss: 0.3364 - acc: 0.8685 - val_loss: 0.5184 - val_acc: 0.8122\n",
            "Epoch 89/100\n",
            "9369/9369 [==============================] - 2s 186us/sample - loss: 0.3316 - acc: 0.8713 - val_loss: 0.5359 - val_acc: 0.8152\n",
            "Epoch 90/100\n",
            "9369/9369 [==============================] - 2s 176us/sample - loss: 0.3310 - acc: 0.8722 - val_loss: 0.5404 - val_acc: 0.8160\n",
            "Epoch 91/100\n",
            "9369/9369 [==============================] - 2s 175us/sample - loss: 0.3280 - acc: 0.8743 - val_loss: 0.5255 - val_acc: 0.8182\n",
            "Epoch 92/100\n",
            "9369/9369 [==============================] - 2s 178us/sample - loss: 0.3199 - acc: 0.8755 - val_loss: 0.5593 - val_acc: 0.8165\n",
            "Epoch 93/100\n",
            "9369/9369 [==============================] - 2s 177us/sample - loss: 0.3150 - acc: 0.8778 - val_loss: 0.5650 - val_acc: 0.8224\n",
            "Epoch 94/100\n",
            "9369/9369 [==============================] - 2s 177us/sample - loss: 0.3236 - acc: 0.8720 - val_loss: 0.5626 - val_acc: 0.8169\n",
            "Epoch 95/100\n",
            "9369/9369 [==============================] - 2s 185us/sample - loss: 0.3167 - acc: 0.8778 - val_loss: 0.5672 - val_acc: 0.8143\n",
            "Epoch 96/100\n",
            "9369/9369 [==============================] - 2s 182us/sample - loss: 0.3186 - acc: 0.8758 - val_loss: 0.5455 - val_acc: 0.8118\n",
            "Epoch 97/100\n",
            "9369/9369 [==============================] - 2s 184us/sample - loss: 0.3144 - acc: 0.8765 - val_loss: 0.5411 - val_acc: 0.8143\n",
            "Epoch 98/100\n",
            "9369/9369 [==============================] - 2s 184us/sample - loss: 0.3108 - acc: 0.8791 - val_loss: 0.5485 - val_acc: 0.8126\n",
            "Epoch 99/100\n",
            "9369/9369 [==============================] - 2s 178us/sample - loss: 0.3077 - acc: 0.8808 - val_loss: 0.5607 - val_acc: 0.8139\n",
            "Epoch 100/100\n",
            "9369/9369 [==============================] - 2s 181us/sample - loss: 0.3066 - acc: 0.8801 - val_loss: 0.5716 - val_acc: 0.8139\n"
          ],
          "name": "stdout"
        }
      ]
    },
    {
      "cell_type": "code",
      "metadata": {
        "id": "ndKU2xfWx3Ax",
        "colab_type": "code",
        "outputId": "ded4e7d0-be7b-4f44-fdc2-e18d0e29a91d",
        "colab": {
          "base_uri": "https://localhost:8080/",
          "height": 51
        }
      },
      "source": [
        "\n",
        "# Find train and test accuracy\n",
        "loss, accuracy = lstm_mod1.evaluate(X_train, y_train, verbose=False)\n",
        "print(\"Training Accuracy: {:.4f}\".format(accuracy))\n",
        "loss, accuracy = lstm_mod1.evaluate(X_test, y_test, verbose=False)\n",
        "print(\"Testing Accuracy:  {:.4f}\".format(accuracy))"
      ],
      "execution_count": 30,
      "outputs": [
        {
          "output_type": "stream",
          "text": [
            "Training Accuracy: 0.9137\n",
            "Testing Accuracy:  0.8023\n"
          ],
          "name": "stdout"
        }
      ]
    },
    {
      "cell_type": "code",
      "metadata": {
        "id": "tQs6p4tnx5LC",
        "colab_type": "code",
        "outputId": "70d0bda7-00de-4287-bdd7-4f5f0084c3da",
        "colab": {
          "base_uri": "https://localhost:8080/",
          "height": 655
        }
      },
      "source": [
        "acc = hist_1.history['acc']\n",
        "val_acc = hist_1.history['val_acc']\n",
        "loss = hist_1.history['loss']\n",
        "val_loss = hist_1.history['val_loss']\n",
        "\n",
        "epochs = range(len(acc))\n",
        "\n",
        "plt.plot(epochs, acc, 'g', label='Training acc')\n",
        "plt.plot(epochs, val_acc, 'b', label='Validation acc')\n",
        "plt.title('Training and validation accuracy')\n",
        "plt.legend()\n",
        "\n",
        "plt.figure()\n",
        "\n",
        "plt.plot(epochs, loss, 'g', label='Training loss')\n",
        "plt.plot(epochs, val_loss, 'b', label='Validation loss')\n",
        "plt.title('Training and validation loss')\n",
        "plt.legend()\n",
        "\n",
        "plt.show()"
      ],
      "execution_count": 31,
      "outputs": [
        {
          "output_type": "display_data",
          "data": {
            "image/png": "[encoded data removed]",
            "text/plain": [
              "<Figure size 504x360 with 1 Axes>"
            ]
          },
          "metadata": {
            "tags": []
          }
        },
        {
          "output_type": "display_data",
          "data": {
            "image/png": "[encoded data removed]",
            "text/plain": [
              "<Figure size 504x360 with 1 Axes>"
            ]
          },
          "metadata": {
            "tags": []
          }
        }
      ]
    },
    {
      "cell_type": "code",
      "metadata": {
        "id": "Tr9N83L6YHnb",
        "colab_type": "code",
        "outputId": "bab85e55-bf3d-46f8-d96c-74f1326f4c71",
        "colab": {
          "base_uri": "https://localhost:8080/",
          "height": 34
        }
      },
      "source": [
        "print (embedding_layer.output_shape)"
      ],
      "execution_count": 32,
      "outputs": [
        {
          "output_type": "stream",
          "text": [
            "(None, 30, 100)\n"
          ],
          "name": "stdout"
        }
      ]
    },
    {
      "cell_type": "markdown",
      "metadata": {
        "id": "RA7dI8YLAH5F",
        "colab_type": "text"
      },
      "source": [
        "# CNN "
      ]
    },
    {
      "cell_type": "code",
      "metadata": {
        "id": "CMscDOt5cKMD",
        "colab_type": "code",
        "outputId": "19dddec7-5f0e-4e05-d9c1-29c77184ca74",
        "colab": {
          "base_uri": "https://localhost:8080/",
          "height": 323
        }
      },
      "source": [
        "lstm_mod2 = Sequential()\n",
        "lstm_mod2.add(embedding_layer)\n",
        "lstm_mod2.add(Conv1D(128, 5, activation='relu'))\n",
        "lstm_mod2.add(GlobalMaxPooling1D())\n",
        "lstm_mod2.add(Dense(10, activation='relu'))\n",
        "lstm_mod2.add(Dense(3, activation='sigmoid'))\n",
        "lstm_mod2.compile(optimizer='adam', loss='categorical_crossentropy', metrics=['acc'])\n",
        "lstm_mod2.summary()"
      ],
      "execution_count": 33,
      "outputs": [
        {
          "output_type": "stream",
          "text": [
            "Model: \"sequential_1\"\n",
            "_________________________________________________________________\n",
            "Layer (type)                 Output Shape              Param #   \n",
            "=================================================================\n",
            "embedding (Embedding)        (None, 30, 100)           1577600   \n",
            "_________________________________________________________________\n",
            "conv1d (Conv1D)              (None, 26, 128)           64128     \n",
            "_________________________________________________________________\n",
            "global_max_pooling1d (Global (None, 128)               0         \n",
            "_________________________________________________________________\n",
            "dense_1 (Dense)              (None, 10)                1290      \n",
            "_________________________________________________________________\n",
            "dense_2 (Dense)              (None, 3)                 33        \n",
            "=================================================================\n",
            "Total params: 1,643,051\n",
            "Trainable params: 65,451\n",
            "Non-trainable params: 1,577,600\n",
            "_________________________________________________________________\n"
          ],
          "name": "stdout"
        }
      ]
    },
    {
      "cell_type": "code",
      "metadata": {
        "id": "ZXDNGGUshwg-",
        "colab_type": "code",
        "outputId": "d7565c80-3606-4293-f7dd-f86fad548223",
        "colab": {
          "base_uri": "https://localhost:8080/",
          "height": 1000
        }
      },
      "source": [
        "hist_2 = lstm_mod2.fit(X_train, y_train,\n",
        "                    validation_split = 0.2,\n",
        "                    epochs=100, batch_size=256)"
      ],
      "execution_count": 34,
      "outputs": [
        {
          "output_type": "stream",
          "text": [
            "Train on 9369 samples, validate on 2343 samples\n",
            "Epoch 1/100\n",
            "9369/9369 [==============================] - 5s 506us/sample - loss: 0.8165 - acc: 0.6489 - val_loss: 0.7360 - val_acc: 0.6854\n",
            "Epoch 2/100\n",
            "9369/9369 [==============================] - 0s 18us/sample - loss: 0.6569 - acc: 0.7180 - val_loss: 0.6600 - val_acc: 0.7260\n",
            "Epoch 3/100\n",
            "9369/9369 [==============================] - 0s 16us/sample - loss: 0.5512 - acc: 0.7838 - val_loss: 0.6034 - val_acc: 0.7512\n",
            "Epoch 4/100\n",
            "9369/9369 [==============================] - 0s 16us/sample - loss: 0.4792 - acc: 0.8160 - val_loss: 0.5633 - val_acc: 0.7725\n",
            "Epoch 5/100\n",
            "9369/9369 [==============================] - 0s 18us/sample - loss: 0.4082 - acc: 0.8456 - val_loss: 0.5600 - val_acc: 0.7776\n",
            "Epoch 6/100\n",
            "9369/9369 [==============================] - 0s 17us/sample - loss: 0.3542 - acc: 0.8733 - val_loss: 0.5487 - val_acc: 0.7832\n",
            "Epoch 7/100\n",
            "9369/9369 [==============================] - 0s 17us/sample - loss: 0.3142 - acc: 0.8964 - val_loss: 0.5425 - val_acc: 0.7832\n",
            "Epoch 8/100\n",
            "9369/9369 [==============================] - 0s 16us/sample - loss: 0.2718 - acc: 0.9177 - val_loss: 0.5840 - val_acc: 0.7712\n",
            "Epoch 9/100\n",
            "9369/9369 [==============================] - 0s 16us/sample - loss: 0.2371 - acc: 0.9315 - val_loss: 0.5695 - val_acc: 0.7828\n",
            "Epoch 10/100\n",
            "9369/9369 [==============================] - 0s 17us/sample - loss: 0.2058 - acc: 0.9455 - val_loss: 0.5569 - val_acc: 0.7806\n",
            "Epoch 11/100\n",
            "9369/9369 [==============================] - 0s 16us/sample - loss: 0.1768 - acc: 0.9585 - val_loss: 0.5691 - val_acc: 0.7845\n",
            "Epoch 12/100\n",
            "9369/9369 [==============================] - 0s 18us/sample - loss: 0.1481 - acc: 0.9683 - val_loss: 0.5875 - val_acc: 0.7849\n",
            "Epoch 13/100\n",
            "9369/9369 [==============================] - 0s 17us/sample - loss: 0.1253 - acc: 0.9762 - val_loss: 0.6021 - val_acc: 0.7819\n",
            "Epoch 14/100\n",
            "9369/9369 [==============================] - 0s 18us/sample - loss: 0.1037 - acc: 0.9813 - val_loss: 0.6163 - val_acc: 0.7759\n",
            "Epoch 15/100\n",
            "9369/9369 [==============================] - 0s 17us/sample - loss: 0.0892 - acc: 0.9859 - val_loss: 0.6272 - val_acc: 0.7764\n",
            "Epoch 16/100\n",
            "9369/9369 [==============================] - 0s 17us/sample - loss: 0.0802 - acc: 0.9882 - val_loss: 0.6608 - val_acc: 0.7704\n",
            "Epoch 17/100\n",
            "9369/9369 [==============================] - 0s 16us/sample - loss: 0.0682 - acc: 0.9898 - val_loss: 0.7231 - val_acc: 0.7793\n",
            "Epoch 18/100\n",
            "9369/9369 [==============================] - 0s 19us/sample - loss: 0.0570 - acc: 0.9909 - val_loss: 0.7169 - val_acc: 0.7798\n",
            "Epoch 19/100\n",
            "9369/9369 [==============================] - 0s 15us/sample - loss: 0.0536 - acc: 0.9922 - val_loss: 0.6951 - val_acc: 0.7742\n",
            "Epoch 20/100\n",
            "9369/9369 [==============================] - 0s 17us/sample - loss: 0.0436 - acc: 0.9926 - val_loss: 0.7243 - val_acc: 0.7721\n",
            "Epoch 21/100\n",
            "9369/9369 [==============================] - 0s 18us/sample - loss: 0.0384 - acc: 0.9938 - val_loss: 0.7521 - val_acc: 0.7793\n",
            "Epoch 22/100\n",
            "9369/9369 [==============================] - 0s 17us/sample - loss: 0.0360 - acc: 0.9942 - val_loss: 0.7387 - val_acc: 0.7691\n",
            "Epoch 23/100\n",
            "9369/9369 [==============================] - 0s 18us/sample - loss: 0.0343 - acc: 0.9944 - val_loss: 0.8130 - val_acc: 0.7793\n",
            "Epoch 24/100\n",
            "9369/9369 [==============================] - 0s 17us/sample - loss: 0.0307 - acc: 0.9939 - val_loss: 0.7746 - val_acc: 0.7738\n",
            "Epoch 25/100\n",
            "9369/9369 [==============================] - 0s 16us/sample - loss: 0.0279 - acc: 0.9952 - val_loss: 0.7746 - val_acc: 0.7725\n",
            "Epoch 26/100\n",
            "9369/9369 [==============================] - 0s 16us/sample - loss: 0.0298 - acc: 0.9950 - val_loss: 0.8564 - val_acc: 0.7751\n",
            "Epoch 27/100\n",
            "9369/9369 [==============================] - 0s 16us/sample - loss: 0.0254 - acc: 0.9949 - val_loss: 0.8993 - val_acc: 0.7751\n",
            "Epoch 28/100\n",
            "9369/9369 [==============================] - 0s 16us/sample - loss: 0.0242 - acc: 0.9953 - val_loss: 0.8665 - val_acc: 0.7746\n",
            "Epoch 29/100\n",
            "9369/9369 [==============================] - 0s 18us/sample - loss: 0.0241 - acc: 0.9949 - val_loss: 0.8723 - val_acc: 0.7738\n",
            "Epoch 30/100\n",
            "9369/9369 [==============================] - 0s 17us/sample - loss: 0.0249 - acc: 0.9948 - val_loss: 0.8699 - val_acc: 0.7636\n",
            "Epoch 31/100\n",
            "9369/9369 [==============================] - 0s 16us/sample - loss: 0.0250 - acc: 0.9950 - val_loss: 0.9916 - val_acc: 0.7738\n",
            "Epoch 32/100\n",
            "9369/9369 [==============================] - 0s 16us/sample - loss: 0.0272 - acc: 0.9944 - val_loss: 0.9156 - val_acc: 0.7776\n",
            "Epoch 33/100\n",
            "9369/9369 [==============================] - 0s 17us/sample - loss: 0.0272 - acc: 0.9948 - val_loss: 0.9141 - val_acc: 0.7810\n",
            "Epoch 34/100\n",
            "9369/9369 [==============================] - 0s 16us/sample - loss: 0.0241 - acc: 0.9953 - val_loss: 0.9715 - val_acc: 0.7764\n",
            "Epoch 35/100\n",
            "9369/9369 [==============================] - 0s 17us/sample - loss: 0.0246 - acc: 0.9953 - val_loss: 0.9133 - val_acc: 0.7742\n",
            "Epoch 36/100\n",
            "9369/9369 [==============================] - 0s 16us/sample - loss: 0.0226 - acc: 0.9952 - val_loss: 0.9470 - val_acc: 0.7691\n",
            "Epoch 37/100\n",
            "9369/9369 [==============================] - 0s 17us/sample - loss: 0.0217 - acc: 0.9953 - val_loss: 1.0182 - val_acc: 0.7636\n",
            "Epoch 38/100\n",
            "9369/9369 [==============================] - 0s 16us/sample - loss: 0.0201 - acc: 0.9958 - val_loss: 0.9563 - val_acc: 0.7670\n",
            "Epoch 39/100\n",
            "9369/9369 [==============================] - 0s 16us/sample - loss: 0.0200 - acc: 0.9959 - val_loss: 0.9322 - val_acc: 0.7695\n",
            "Epoch 40/100\n",
            "9369/9369 [==============================] - 0s 17us/sample - loss: 0.0214 - acc: 0.9957 - val_loss: 0.9950 - val_acc: 0.7695\n",
            "Epoch 41/100\n",
            "9369/9369 [==============================] - 0s 18us/sample - loss: 0.0202 - acc: 0.9956 - val_loss: 0.9996 - val_acc: 0.7700\n",
            "Epoch 42/100\n",
            "9369/9369 [==============================] - 0s 17us/sample - loss: 0.0204 - acc: 0.9957 - val_loss: 1.0220 - val_acc: 0.7678\n",
            "Epoch 43/100\n",
            "9369/9369 [==============================] - 0s 17us/sample - loss: 0.0191 - acc: 0.9962 - val_loss: 1.0624 - val_acc: 0.7589\n",
            "Epoch 44/100\n",
            "9369/9369 [==============================] - 0s 15us/sample - loss: 0.0219 - acc: 0.9956 - val_loss: 1.0072 - val_acc: 0.7746\n",
            "Epoch 45/100\n",
            "9369/9369 [==============================] - 0s 17us/sample - loss: 0.0184 - acc: 0.9963 - val_loss: 1.1162 - val_acc: 0.7729\n",
            "Epoch 46/100\n",
            "9369/9369 [==============================] - 0s 17us/sample - loss: 0.0182 - acc: 0.9962 - val_loss: 1.0544 - val_acc: 0.7678\n",
            "Epoch 47/100\n",
            "9369/9369 [==============================] - 0s 17us/sample - loss: 0.0189 - acc: 0.9963 - val_loss: 1.1747 - val_acc: 0.7644\n",
            "Epoch 48/100\n",
            "9369/9369 [==============================] - 0s 17us/sample - loss: 0.0191 - acc: 0.9965 - val_loss: 1.0467 - val_acc: 0.7674\n",
            "Epoch 49/100\n",
            "9369/9369 [==============================] - 0s 16us/sample - loss: 0.0203 - acc: 0.9959 - val_loss: 1.0519 - val_acc: 0.7610\n",
            "Epoch 50/100\n",
            "9369/9369 [==============================] - 0s 17us/sample - loss: 0.0199 - acc: 0.9961 - val_loss: 1.0332 - val_acc: 0.7734\n",
            "Epoch 51/100\n",
            "9369/9369 [==============================] - 0s 16us/sample - loss: 0.0197 - acc: 0.9958 - val_loss: 1.0942 - val_acc: 0.7648\n",
            "Epoch 52/100\n",
            "9369/9369 [==============================] - 0s 16us/sample - loss: 0.0220 - acc: 0.9963 - val_loss: 1.0670 - val_acc: 0.7610\n",
            "Epoch 53/100\n",
            "9369/9369 [==============================] - 0s 17us/sample - loss: 0.0207 - acc: 0.9959 - val_loss: 1.0887 - val_acc: 0.7537\n",
            "Epoch 54/100\n",
            "9369/9369 [==============================] - 0s 16us/sample - loss: 0.0209 - acc: 0.9965 - val_loss: 1.0659 - val_acc: 0.7687\n",
            "Epoch 55/100\n",
            "9369/9369 [==============================] - 0s 16us/sample - loss: 0.0217 - acc: 0.9957 - val_loss: 1.3049 - val_acc: 0.7593\n",
            "Epoch 56/100\n",
            "9369/9369 [==============================] - 0s 17us/sample - loss: 0.0242 - acc: 0.9953 - val_loss: 1.2381 - val_acc: 0.7358\n",
            "Epoch 57/100\n",
            "9369/9369 [==============================] - 0s 17us/sample - loss: 0.0209 - acc: 0.9966 - val_loss: 1.0955 - val_acc: 0.7657\n",
            "Epoch 58/100\n",
            "9369/9369 [==============================] - 0s 16us/sample - loss: 0.0228 - acc: 0.9958 - val_loss: 1.2221 - val_acc: 0.7682\n",
            "Epoch 59/100\n",
            "9369/9369 [==============================] - 0s 16us/sample - loss: 0.0229 - acc: 0.9963 - val_loss: 1.1546 - val_acc: 0.7712\n",
            "Epoch 60/100\n",
            "9369/9369 [==============================] - 0s 17us/sample - loss: 0.0232 - acc: 0.9961 - val_loss: 1.2563 - val_acc: 0.7725\n",
            "Epoch 61/100\n",
            "9369/9369 [==============================] - 0s 18us/sample - loss: 0.0214 - acc: 0.9963 - val_loss: 1.1735 - val_acc: 0.7670\n",
            "Epoch 62/100\n",
            "9369/9369 [==============================] - 0s 17us/sample - loss: 0.0197 - acc: 0.9964 - val_loss: 1.1853 - val_acc: 0.7742\n",
            "Epoch 63/100\n",
            "9369/9369 [==============================] - 0s 16us/sample - loss: 0.0213 - acc: 0.9957 - val_loss: 1.2383 - val_acc: 0.7708\n",
            "Epoch 64/100\n",
            "9369/9369 [==============================] - 0s 16us/sample - loss: 0.0244 - acc: 0.9956 - val_loss: 1.2326 - val_acc: 0.7648\n",
            "Epoch 65/100\n",
            "9369/9369 [==============================] - 0s 17us/sample - loss: 0.0214 - acc: 0.9963 - val_loss: 1.2961 - val_acc: 0.7636\n",
            "Epoch 66/100\n",
            "9369/9369 [==============================] - 0s 17us/sample - loss: 0.0185 - acc: 0.9967 - val_loss: 1.2355 - val_acc: 0.7682\n",
            "Epoch 67/100\n",
            "9369/9369 [==============================] - 0s 15us/sample - loss: 0.0188 - acc: 0.9966 - val_loss: 1.2353 - val_acc: 0.7657\n",
            "Epoch 68/100\n",
            "9369/9369 [==============================] - 0s 16us/sample - loss: 0.0199 - acc: 0.9963 - val_loss: 1.2429 - val_acc: 0.7674\n",
            "Epoch 69/100\n",
            "9369/9369 [==============================] - 0s 17us/sample - loss: 0.0195 - acc: 0.9967 - val_loss: 1.1757 - val_acc: 0.7687\n",
            "Epoch 70/100\n",
            "9369/9369 [==============================] - 0s 16us/sample - loss: 0.0200 - acc: 0.9958 - val_loss: 1.4277 - val_acc: 0.7554\n",
            "Epoch 71/100\n",
            "9369/9369 [==============================] - 0s 16us/sample - loss: 0.0191 - acc: 0.9968 - val_loss: 1.2559 - val_acc: 0.7614\n",
            "Epoch 72/100\n",
            "9369/9369 [==============================] - 0s 16us/sample - loss: 0.0216 - acc: 0.9963 - val_loss: 1.2143 - val_acc: 0.7631\n",
            "Epoch 73/100\n",
            "9369/9369 [==============================] - 0s 16us/sample - loss: 0.0192 - acc: 0.9964 - val_loss: 1.2806 - val_acc: 0.7636\n",
            "Epoch 74/100\n",
            "9369/9369 [==============================] - 0s 17us/sample - loss: 0.0220 - acc: 0.9962 - val_loss: 1.3502 - val_acc: 0.7512\n",
            "Epoch 75/100\n",
            "9369/9369 [==============================] - 0s 17us/sample - loss: 0.0211 - acc: 0.9966 - val_loss: 1.2751 - val_acc: 0.7576\n",
            "Epoch 76/100\n",
            "9369/9369 [==============================] - 0s 18us/sample - loss: 0.0193 - acc: 0.9964 - val_loss: 1.3949 - val_acc: 0.7682\n",
            "Epoch 77/100\n",
            "9369/9369 [==============================] - 0s 17us/sample - loss: 0.0228 - acc: 0.9959 - val_loss: 1.4794 - val_acc: 0.7601\n",
            "Epoch 78/100\n",
            "9369/9369 [==============================] - 0s 17us/sample - loss: 0.0220 - acc: 0.9962 - val_loss: 1.2785 - val_acc: 0.7627\n",
            "Epoch 79/100\n",
            "9369/9369 [==============================] - 0s 16us/sample - loss: 0.0208 - acc: 0.9962 - val_loss: 1.4464 - val_acc: 0.7721\n",
            "Epoch 80/100\n",
            "9369/9369 [==============================] - 0s 16us/sample - loss: 0.0210 - acc: 0.9959 - val_loss: 1.4266 - val_acc: 0.7571\n",
            "Epoch 81/100\n",
            "9369/9369 [==============================] - 0s 15us/sample - loss: 0.0238 - acc: 0.9959 - val_loss: 1.3233 - val_acc: 0.7691\n",
            "Epoch 82/100\n",
            "9369/9369 [==============================] - 0s 17us/sample - loss: 0.0214 - acc: 0.9965 - val_loss: 1.4477 - val_acc: 0.7682\n",
            "Epoch 83/100\n",
            "9369/9369 [==============================] - 0s 16us/sample - loss: 0.0196 - acc: 0.9966 - val_loss: 1.4920 - val_acc: 0.7644\n",
            "Epoch 84/100\n",
            "9369/9369 [==============================] - 0s 16us/sample - loss: 0.0199 - acc: 0.9966 - val_loss: 1.3253 - val_acc: 0.7708\n",
            "Epoch 85/100\n",
            "9369/9369 [==============================] - 0s 17us/sample - loss: 0.0203 - acc: 0.9962 - val_loss: 1.3688 - val_acc: 0.7678\n",
            "Epoch 86/100\n",
            "9369/9369 [==============================] - 0s 17us/sample - loss: 0.0204 - acc: 0.9962 - val_loss: 1.3715 - val_acc: 0.7691\n",
            "Epoch 87/100\n",
            "9369/9369 [==============================] - 0s 17us/sample - loss: 0.0222 - acc: 0.9957 - val_loss: 1.3899 - val_acc: 0.7571\n",
            "Epoch 88/100\n",
            "9369/9369 [==============================] - 0s 18us/sample - loss: 0.0201 - acc: 0.9965 - val_loss: 1.3625 - val_acc: 0.7580\n",
            "Epoch 89/100\n",
            "9369/9369 [==============================] - 0s 16us/sample - loss: 0.0205 - acc: 0.9964 - val_loss: 1.4164 - val_acc: 0.7721\n",
            "Epoch 90/100\n",
            "9369/9369 [==============================] - 0s 16us/sample - loss: 0.0221 - acc: 0.9961 - val_loss: 1.4040 - val_acc: 0.7657\n",
            "Epoch 91/100\n",
            "9369/9369 [==============================] - 0s 16us/sample - loss: 0.0211 - acc: 0.9963 - val_loss: 1.4235 - val_acc: 0.7708\n",
            "Epoch 92/100\n",
            "9369/9369 [==============================] - 0s 18us/sample - loss: 0.0187 - acc: 0.9966 - val_loss: 1.4263 - val_acc: 0.7631\n",
            "Epoch 93/100\n",
            "9369/9369 [==============================] - 0s 17us/sample - loss: 0.0192 - acc: 0.9966 - val_loss: 1.4567 - val_acc: 0.7687\n",
            "Epoch 94/100\n",
            "9369/9369 [==============================] - 0s 16us/sample - loss: 0.0187 - acc: 0.9967 - val_loss: 1.3332 - val_acc: 0.7601\n",
            "Epoch 95/100\n",
            "9369/9369 [==============================] - 0s 17us/sample - loss: 0.0196 - acc: 0.9968 - val_loss: 1.4114 - val_acc: 0.7559\n",
            "Epoch 96/100\n",
            "9369/9369 [==============================] - 0s 16us/sample - loss: 0.7843 - acc: 0.8954 - val_loss: 1.0439 - val_acc: 0.7533\n",
            "Epoch 97/100\n",
            "9369/9369 [==============================] - 0s 17us/sample - loss: 0.0955 - acc: 0.9682 - val_loss: 0.9770 - val_acc: 0.7695\n",
            "Epoch 98/100\n",
            "9369/9369 [==============================] - 0s 19us/sample - loss: 0.0304 - acc: 0.9950 - val_loss: 0.9769 - val_acc: 0.7678\n",
            "Epoch 99/100\n",
            "9369/9369 [==============================] - 0s 18us/sample - loss: 0.0227 - acc: 0.9961 - val_loss: 1.0029 - val_acc: 0.7678\n",
            "Epoch 100/100\n",
            "9369/9369 [==============================] - 0s 15us/sample - loss: 0.0200 - acc: 0.9965 - val_loss: 0.9573 - val_acc: 0.7627\n"
          ],
          "name": "stdout"
        }
      ]
    },
    {
      "cell_type": "code",
      "metadata": {
        "colab_type": "code",
        "outputId": "fd5042fd-ccf8-4807-c06d-8ed33144a43a",
        "id": "k5zJWd7DjM-4",
        "colab": {
          "base_uri": "https://localhost:8080/",
          "height": 51
        }
      },
      "source": [
        "\n",
        "# Find train and test accuracy\n",
        "loss, accuracy = lstm_mod2.evaluate(X_train, y_train, verbose=False)\n",
        "print(\"Training Accuracy: {:.4f}\".format(accuracy))\n",
        "loss, accuracy = lstm_mod2.evaluate(X_test, y_test, verbose=False)\n",
        "print(\"Testing Accuracy:  {:.4f}\".format(accuracy))"
      ],
      "execution_count": 35,
      "outputs": [
        {
          "output_type": "stream",
          "text": [
            "Training Accuracy: 0.9500\n",
            "Testing Accuracy:  0.7643\n"
          ],
          "name": "stdout"
        }
      ]
    },
    {
      "cell_type": "code",
      "metadata": {
        "colab_type": "code",
        "outputId": "7dc31dc9-73a0-4664-900d-2fdf73787232",
        "id": "naYvdKKxjM_R",
        "colab": {
          "base_uri": "https://localhost:8080/",
          "height": 655
        }
      },
      "source": [
        "acc = hist_2.history['acc']\n",
        "val_acc = hist_2.history['val_acc']\n",
        "loss = hist_2.history['loss']\n",
        "val_loss = hist_2.history['val_loss']\n",
        "\n",
        "epochs = range(len(acc))\n",
        "\n",
        "plt.plot(epochs, acc, label='Training acc')\n",
        "plt.plot(epochs, val_acc, label='Validation acc')\n",
        "plt.title('Training and validation accuracy')\n",
        "plt.legend()\n",
        "\n",
        "plt.figure()\n",
        "\n",
        "plt.plot(epochs, loss, label='Training loss')\n",
        "plt.plot(epochs, val_loss, label='Validation loss')\n",
        "plt.title('Training and validation loss')\n",
        "plt.legend()\n",
        "\n",
        "plt.show()"
      ],
      "execution_count": 36,
      "outputs": [
        {
          "output_type": "display_data",
          "data": {
            "image/png": "[encoded data removed]",
            "text/plain": [
              "<Figure size 504x360 with 1 Axes>"
            ]
          },
          "metadata": {
            "tags": []
          }
        },
        {
          "output_type": "display_data",
          "data": {
            "image/png": "[encoded data removed]",
            "text/plain": [
              "<Figure size 504x360 with 1 Axes>"
            ]
          },
          "metadata": {
            "tags": []
          }
        }
      ]
    },
    {
      "cell_type": "markdown",
      "metadata": {
        "id": "zeXC9w_xAMaM",
        "colab_type": "text"
      },
      "source": [
        "# Simple RNN"
      ]
    },
    {
      "cell_type": "code",
      "metadata": {
        "id": "UYyp7ovrieIX",
        "colab_type": "code",
        "colab": {}
      },
      "source": [
        "from tensorflow.keras.layers import SimpleRNN"
      ],
      "execution_count": 0,
      "outputs": []
    },
    {
      "cell_type": "code",
      "metadata": {
        "colab_type": "code",
        "outputId": "d565a1e8-9771-45c9-8cf8-e1bc14aa6575",
        "id": "bigbbIAkiiAy",
        "colab": {
          "base_uri": "https://localhost:8080/",
          "height": 255
        }
      },
      "source": [
        "lstm_mod3 = Sequential()\n",
        "lstm_mod3.add(embedding_layer)\n",
        "lstm_mod3.add(SimpleRNN(256))\n",
        "#lstm_mod3.add(Dense(3, activation='tanh'))\n",
        "lstm_mod3.add(Dense(3, activation='relu'))\n",
        "lstm_mod3.compile(optimizer='adam', loss='categorical_crossentropy', metrics=['acc'])\n",
        "lstm_mod3.summary()"
      ],
      "execution_count": 38,
      "outputs": [
        {
          "output_type": "stream",
          "text": [
            "Model: \"sequential_2\"\n",
            "_________________________________________________________________\n",
            "Layer (type)                 Output Shape              Param #   \n",
            "=================================================================\n",
            "embedding (Embedding)        (None, 30, 100)           1577600   \n",
            "_________________________________________________________________\n",
            "simple_rnn (SimpleRNN)       (None, 256)               91392     \n",
            "_________________________________________________________________\n",
            "dense_3 (Dense)              (None, 3)                 771       \n",
            "=================================================================\n",
            "Total params: 1,669,763\n",
            "Trainable params: 92,163\n",
            "Non-trainable params: 1,577,600\n",
            "_________________________________________________________________\n"
          ],
          "name": "stdout"
        }
      ]
    },
    {
      "cell_type": "code",
      "metadata": {
        "colab_type": "code",
        "outputId": "a59236e0-e040-4de9-aae1-591e6ce9445f",
        "id": "vX6KLIUaiiBK",
        "colab": {
          "base_uri": "https://localhost:8080/",
          "height": 1000
        }
      },
      "source": [
        "hist_3 = lstm_mod3.fit(X_train, y_train,\n",
        "                    validation_split = 0.2,\n",
        "                    epochs=100, batch_size=256)"
      ],
      "execution_count": 39,
      "outputs": [
        {
          "output_type": "stream",
          "text": [
            "Train on 9369 samples, validate on 2343 samples\n",
            "Epoch 1/100\n",
            "9369/9369 [==============================] - 1s 65us/sample - loss: 1.1761 - acc: 0.5962 - val_loss: 0.9186 - val_acc: 0.6176\n",
            "Epoch 2/100\n",
            "9369/9369 [==============================] - 0s 38us/sample - loss: 0.9086 - acc: 0.6256 - val_loss: 0.9101 - val_acc: 0.6176\n",
            "Epoch 3/100\n",
            "9369/9369 [==============================] - 0s 37us/sample - loss: 0.8694 - acc: 0.6288 - val_loss: 0.8506 - val_acc: 0.6240\n",
            "Epoch 4/100\n",
            "9369/9369 [==============================] - 0s 38us/sample - loss: 0.8464 - acc: 0.6327 - val_loss: 0.8419 - val_acc: 0.6359\n",
            "Epoch 5/100\n",
            "9369/9369 [==============================] - 0s 38us/sample - loss: 0.8329 - acc: 0.6502 - val_loss: 0.8631 - val_acc: 0.6436\n",
            "Epoch 6/100\n",
            "9369/9369 [==============================] - 0s 37us/sample - loss: 2.3098 - acc: 0.6319 - val_loss: 1.7706 - val_acc: 0.6176\n",
            "Epoch 7/100\n",
            "9369/9369 [==============================] - 0s 39us/sample - loss: 1.0617 - acc: 0.3904 - val_loss: 1.0071 - val_acc: 0.6176\n",
            "Epoch 8/100\n",
            "9369/9369 [==============================] - 0s 39us/sample - loss: 0.9663 - acc: 0.6256 - val_loss: 0.9472 - val_acc: 0.6176\n",
            "Epoch 9/100\n",
            "9369/9369 [==============================] - 0s 37us/sample - loss: 0.9292 - acc: 0.6256 - val_loss: 0.9255 - val_acc: 0.6176\n",
            "Epoch 10/100\n",
            "9369/9369 [==============================] - 0s 40us/sample - loss: 0.9141 - acc: 0.6256 - val_loss: 0.9145 - val_acc: 0.6176\n",
            "Epoch 11/100\n",
            "9369/9369 [==============================] - 0s 41us/sample - loss: 0.9054 - acc: 0.6256 - val_loss: 0.9087 - val_acc: 0.6176\n",
            "Epoch 12/100\n",
            "9369/9369 [==============================] - 0s 40us/sample - loss: 0.8999 - acc: 0.6256 - val_loss: 0.9032 - val_acc: 0.6176\n",
            "Epoch 13/100\n",
            "9369/9369 [==============================] - 0s 39us/sample - loss: 0.8957 - acc: 0.6256 - val_loss: 0.8997 - val_acc: 0.6176\n",
            "Epoch 14/100\n",
            "9369/9369 [==============================] - 0s 40us/sample - loss: 0.8929 - acc: 0.6256 - val_loss: 0.8983 - val_acc: 0.6176\n",
            "Epoch 15/100\n",
            "9369/9369 [==============================] - 0s 39us/sample - loss: 0.8912 - acc: 0.6256 - val_loss: 0.8967 - val_acc: 0.6176\n",
            "Epoch 16/100\n",
            "9369/9369 [==============================] - 0s 37us/sample - loss: 0.8901 - acc: 0.6256 - val_loss: 0.8960 - val_acc: 0.6176\n",
            "Epoch 17/100\n",
            "9369/9369 [==============================] - 0s 39us/sample - loss: 0.8893 - acc: 0.6256 - val_loss: 0.8956 - val_acc: 0.6176\n",
            "Epoch 18/100\n",
            "9369/9369 [==============================] - 0s 39us/sample - loss: 0.8887 - acc: 0.6256 - val_loss: 0.8950 - val_acc: 0.6176\n",
            "Epoch 19/100\n",
            "9369/9369 [==============================] - 0s 39us/sample - loss: 0.8881 - acc: 0.6256 - val_loss: 0.8949 - val_acc: 0.6176\n",
            "Epoch 20/100\n",
            "9369/9369 [==============================] - 0s 39us/sample - loss: 0.8877 - acc: 0.6256 - val_loss: 0.8947 - val_acc: 0.6176\n",
            "Epoch 21/100\n",
            "9369/9369 [==============================] - 0s 38us/sample - loss: 0.8876 - acc: 0.6256 - val_loss: 0.8947 - val_acc: 0.6176\n",
            "Epoch 22/100\n",
            "9369/9369 [==============================] - 0s 37us/sample - loss: 0.8875 - acc: 0.6256 - val_loss: 0.8947 - val_acc: 0.6176\n",
            "Epoch 23/100\n",
            "9369/9369 [==============================] - 0s 38us/sample - loss: 0.8873 - acc: 0.6256 - val_loss: 0.8946 - val_acc: 0.6176\n",
            "Epoch 24/100\n",
            "9369/9369 [==============================] - 0s 39us/sample - loss: 0.8872 - acc: 0.6256 - val_loss: 0.8946 - val_acc: 0.6176\n",
            "Epoch 25/100\n",
            "9369/9369 [==============================] - 0s 39us/sample - loss: 0.8872 - acc: 0.6256 - val_loss: 0.8946 - val_acc: 0.6176\n",
            "Epoch 26/100\n",
            "9369/9369 [==============================] - 0s 38us/sample - loss: 0.8871 - acc: 0.6256 - val_loss: 0.8946 - val_acc: 0.6176\n",
            "Epoch 27/100\n",
            "9369/9369 [==============================] - 0s 38us/sample - loss: 0.8870 - acc: 0.6256 - val_loss: 0.8947 - val_acc: 0.6176\n",
            "Epoch 28/100\n",
            "9369/9369 [==============================] - 0s 38us/sample - loss: 0.8870 - acc: 0.6256 - val_loss: 0.8946 - val_acc: 0.6176\n",
            "Epoch 29/100\n",
            "9369/9369 [==============================] - 0s 39us/sample - loss: 0.8870 - acc: 0.6256 - val_loss: 0.8947 - val_acc: 0.6176\n",
            "Epoch 30/100\n",
            "9369/9369 [==============================] - 0s 38us/sample - loss: 0.8870 - acc: 0.6256 - val_loss: 0.8947 - val_acc: 0.6176\n",
            "Epoch 31/100\n",
            "9369/9369 [==============================] - 0s 37us/sample - loss: 0.8870 - acc: 0.6256 - val_loss: 0.8947 - val_acc: 0.6176\n",
            "Epoch 32/100\n",
            "9369/9369 [==============================] - 0s 40us/sample - loss: 0.8870 - acc: 0.6256 - val_loss: 0.8947 - val_acc: 0.6176\n",
            "Epoch 33/100\n",
            "9369/9369 [==============================] - 0s 39us/sample - loss: 0.8870 - acc: 0.6256 - val_loss: 0.8947 - val_acc: 0.6176\n",
            "Epoch 34/100\n",
            "9369/9369 [==============================] - 0s 39us/sample - loss: 0.8870 - acc: 0.6256 - val_loss: 0.8947 - val_acc: 0.6176\n",
            "Epoch 35/100\n",
            "9369/9369 [==============================] - 0s 39us/sample - loss: 0.8870 - acc: 0.6256 - val_loss: 0.8947 - val_acc: 0.6176\n",
            "Epoch 36/100\n",
            "9369/9369 [==============================] - 0s 39us/sample - loss: 0.8870 - acc: 0.6256 - val_loss: 0.8947 - val_acc: 0.6176\n",
            "Epoch 37/100\n",
            "9369/9369 [==============================] - 0s 37us/sample - loss: 0.8871 - acc: 0.6256 - val_loss: 0.8947 - val_acc: 0.6176\n",
            "Epoch 38/100\n",
            "9369/9369 [==============================] - 0s 39us/sample - loss: 0.8870 - acc: 0.6256 - val_loss: 0.8947 - val_acc: 0.6176\n",
            "Epoch 39/100\n",
            "9369/9369 [==============================] - 0s 37us/sample - loss: 0.8870 - acc: 0.6256 - val_loss: 0.8947 - val_acc: 0.6176\n",
            "Epoch 40/100\n",
            "9369/9369 [==============================] - 0s 37us/sample - loss: 0.8871 - acc: 0.6256 - val_loss: 0.8947 - val_acc: 0.6176\n",
            "Epoch 41/100\n",
            "9369/9369 [==============================] - 0s 39us/sample - loss: 0.8871 - acc: 0.6256 - val_loss: 0.8947 - val_acc: 0.6176\n",
            "Epoch 42/100\n",
            "9369/9369 [==============================] - 0s 37us/sample - loss: 0.8871 - acc: 0.6256 - val_loss: 0.8947 - val_acc: 0.6176\n",
            "Epoch 43/100\n",
            "9369/9369 [==============================] - 0s 38us/sample - loss: 0.8871 - acc: 0.6256 - val_loss: 0.8947 - val_acc: 0.6176\n",
            "Epoch 44/100\n",
            "9369/9369 [==============================] - 0s 38us/sample - loss: 0.8872 - acc: 0.6256 - val_loss: 0.8947 - val_acc: 0.6176\n",
            "Epoch 45/100\n",
            "9369/9369 [==============================] - 0s 38us/sample - loss: 0.8874 - acc: 0.6256 - val_loss: 0.8947 - val_acc: 0.6176\n",
            "Epoch 46/100\n",
            "9369/9369 [==============================] - 0s 38us/sample - loss: 0.8874 - acc: 0.6256 - val_loss: 0.8947 - val_acc: 0.6176\n",
            "Epoch 47/100\n",
            "9369/9369 [==============================] - 0s 37us/sample - loss: 0.8873 - acc: 0.6256 - val_loss: 0.8947 - val_acc: 0.6176\n",
            "Epoch 48/100\n",
            "9369/9369 [==============================] - 0s 38us/sample - loss: 0.8873 - acc: 0.6256 - val_loss: 0.8947 - val_acc: 0.6176\n",
            "Epoch 49/100\n",
            "9369/9369 [==============================] - 0s 39us/sample - loss: 0.8874 - acc: 0.6256 - val_loss: 0.8947 - val_acc: 0.6176\n",
            "Epoch 50/100\n",
            "9369/9369 [==============================] - 0s 38us/sample - loss: 0.8876 - acc: 0.6256 - val_loss: 0.8947 - val_acc: 0.6176\n",
            "Epoch 51/100\n",
            "9369/9369 [==============================] - 0s 38us/sample - loss: 0.8875 - acc: 0.6256 - val_loss: 0.8947 - val_acc: 0.6176\n",
            "Epoch 52/100\n",
            "9369/9369 [==============================] - 0s 39us/sample - loss: 0.8876 - acc: 0.6256 - val_loss: 0.8947 - val_acc: 0.6176\n",
            "Epoch 53/100\n",
            "9369/9369 [==============================] - 0s 38us/sample - loss: 0.8879 - acc: 0.6256 - val_loss: 0.8946 - val_acc: 0.6176\n",
            "Epoch 54/100\n",
            "9369/9369 [==============================] - 0s 38us/sample - loss: 0.8878 - acc: 0.6256 - val_loss: 0.8947 - val_acc: 0.6176\n",
            "Epoch 55/100\n",
            "9369/9369 [==============================] - 0s 39us/sample - loss: 0.8879 - acc: 0.6256 - val_loss: 0.8947 - val_acc: 0.6176\n",
            "Epoch 56/100\n",
            "9369/9369 [==============================] - 0s 38us/sample - loss: 0.8878 - acc: 0.6256 - val_loss: 0.8946 - val_acc: 0.6176\n",
            "Epoch 57/100\n",
            "9369/9369 [==============================] - 0s 39us/sample - loss: 0.8878 - acc: 0.6256 - val_loss: 0.8947 - val_acc: 0.6176\n",
            "Epoch 58/100\n",
            "9369/9369 [==============================] - 0s 41us/sample - loss: 0.8878 - acc: 0.6256 - val_loss: 0.8947 - val_acc: 0.6176\n",
            "Epoch 59/100\n",
            "9369/9369 [==============================] - 0s 40us/sample - loss: 0.8878 - acc: 0.6256 - val_loss: 0.8947 - val_acc: 0.6176\n",
            "Epoch 60/100\n",
            "9369/9369 [==============================] - 0s 41us/sample - loss: 0.8878 - acc: 0.6256 - val_loss: 0.8954 - val_acc: 0.6176\n",
            "Epoch 61/100\n",
            "9369/9369 [==============================] - 0s 38us/sample - loss: 0.8880 - acc: 0.6256 - val_loss: 0.8955 - val_acc: 0.6176\n",
            "Epoch 62/100\n",
            "9369/9369 [==============================] - 0s 38us/sample - loss: 0.8880 - acc: 0.6256 - val_loss: 0.8955 - val_acc: 0.6176\n",
            "Epoch 63/100\n",
            "9369/9369 [==============================] - 0s 39us/sample - loss: 0.8880 - acc: 0.6256 - val_loss: 0.8954 - val_acc: 0.6176\n",
            "Epoch 64/100\n",
            "9369/9369 [==============================] - 0s 38us/sample - loss: 0.8880 - acc: 0.6256 - val_loss: 0.8954 - val_acc: 0.6176\n",
            "Epoch 65/100\n",
            "9369/9369 [==============================] - 0s 41us/sample - loss: 0.8881 - acc: 0.6256 - val_loss: 0.8954 - val_acc: 0.6176\n",
            "Epoch 66/100\n",
            "9369/9369 [==============================] - 0s 41us/sample - loss: 0.8883 - acc: 0.6256 - val_loss: 0.8954 - val_acc: 0.6176\n",
            "Epoch 67/100\n",
            "9369/9369 [==============================] - 0s 40us/sample - loss: 0.8883 - acc: 0.6256 - val_loss: 0.8954 - val_acc: 0.6176\n",
            "Epoch 68/100\n",
            "9369/9369 [==============================] - 0s 41us/sample - loss: 0.8883 - acc: 0.6256 - val_loss: 0.8954 - val_acc: 0.6176\n",
            "Epoch 69/100\n",
            "9369/9369 [==============================] - 0s 40us/sample - loss: 0.8883 - acc: 0.6256 - val_loss: 0.8954 - val_acc: 0.6176\n",
            "Epoch 70/100\n",
            "9369/9369 [==============================] - 0s 39us/sample - loss: 0.8883 - acc: 0.6256 - val_loss: 0.8954 - val_acc: 0.6176\n",
            "Epoch 71/100\n",
            "9369/9369 [==============================] - 0s 39us/sample - loss: 0.8885 - acc: 0.6256 - val_loss: 0.8954 - val_acc: 0.6176\n",
            "Epoch 72/100\n",
            "9369/9369 [==============================] - 0s 37us/sample - loss: 0.8886 - acc: 0.6256 - val_loss: 0.8954 - val_acc: 0.6176\n",
            "Epoch 73/100\n",
            "9369/9369 [==============================] - 0s 37us/sample - loss: 0.8886 - acc: 0.6256 - val_loss: 0.8963 - val_acc: 0.6176\n",
            "Epoch 74/100\n",
            "9369/9369 [==============================] - 0s 39us/sample - loss: 0.8886 - acc: 0.6256 - val_loss: 0.8957 - val_acc: 0.6176\n",
            "Epoch 75/100\n",
            "9369/9369 [==============================] - 0s 37us/sample - loss: 0.8887 - acc: 0.6256 - val_loss: 0.8964 - val_acc: 0.6176\n",
            "Epoch 76/100\n",
            "9369/9369 [==============================] - 0s 38us/sample - loss: 0.8888 - acc: 0.6256 - val_loss: 0.8963 - val_acc: 0.6176\n",
            "Epoch 77/100\n",
            "9369/9369 [==============================] - 0s 40us/sample - loss: 0.8889 - acc: 0.6256 - val_loss: 0.8963 - val_acc: 0.6176\n",
            "Epoch 78/100\n",
            "9369/9369 [==============================] - 0s 37us/sample - loss: 0.8889 - acc: 0.6256 - val_loss: 0.8963 - val_acc: 0.6176\n",
            "Epoch 79/100\n",
            "9369/9369 [==============================] - 0s 38us/sample - loss: 0.8888 - acc: 0.6256 - val_loss: 0.8964 - val_acc: 0.6176\n",
            "Epoch 80/100\n",
            "9369/9369 [==============================] - 0s 38us/sample - loss: 0.8890 - acc: 0.6256 - val_loss: 0.8966 - val_acc: 0.6176\n",
            "Epoch 81/100\n",
            "9369/9369 [==============================] - 0s 38us/sample - loss: 0.8890 - acc: 0.6256 - val_loss: 0.8965 - val_acc: 0.6176\n",
            "Epoch 82/100\n",
            "9369/9369 [==============================] - 0s 40us/sample - loss: 0.8889 - acc: 0.6256 - val_loss: 0.8966 - val_acc: 0.6176\n",
            "Epoch 83/100\n",
            "9369/9369 [==============================] - 0s 36us/sample - loss: 0.8889 - acc: 0.6256 - val_loss: 0.8968 - val_acc: 0.6176\n",
            "Epoch 84/100\n",
            "9369/9369 [==============================] - 0s 38us/sample - loss: 0.8889 - acc: 0.6256 - val_loss: 0.8967 - val_acc: 0.6176\n",
            "Epoch 85/100\n",
            "9369/9369 [==============================] - 0s 40us/sample - loss: 0.8890 - acc: 0.6256 - val_loss: 0.8967 - val_acc: 0.6176\n",
            "Epoch 86/100\n",
            "9369/9369 [==============================] - 0s 38us/sample - loss: 0.8891 - acc: 0.6256 - val_loss: 0.8967 - val_acc: 0.6176\n",
            "Epoch 87/100\n",
            "9369/9369 [==============================] - 0s 38us/sample - loss: 0.8891 - acc: 0.6256 - val_loss: 0.8968 - val_acc: 0.6176\n",
            "Epoch 88/100\n",
            "9369/9369 [==============================] - 0s 40us/sample - loss: 0.8890 - acc: 0.6256 - val_loss: 0.8967 - val_acc: 0.6176\n",
            "Epoch 89/100\n",
            "9369/9369 [==============================] - 0s 39us/sample - loss: 0.8891 - acc: 0.6256 - val_loss: 0.8967 - val_acc: 0.6176\n",
            "Epoch 90/100\n",
            "9369/9369 [==============================] - 0s 39us/sample - loss: 0.8891 - acc: 0.6256 - val_loss: 0.8967 - val_acc: 0.6176\n",
            "Epoch 91/100\n",
            "9369/9369 [==============================] - 0s 39us/sample - loss: 0.8891 - acc: 0.6256 - val_loss: 0.8967 - val_acc: 0.6176\n",
            "Epoch 92/100\n",
            "9369/9369 [==============================] - 0s 37us/sample - loss: 0.8891 - acc: 0.6256 - val_loss: 0.8969 - val_acc: 0.6176\n",
            "Epoch 93/100\n",
            "9369/9369 [==============================] - 0s 38us/sample - loss: 0.8892 - acc: 0.6256 - val_loss: 0.8977 - val_acc: 0.6176\n",
            "Epoch 94/100\n",
            "9369/9369 [==============================] - 0s 41us/sample - loss: 0.8911 - acc: 0.6256 - val_loss: 0.8977 - val_acc: 0.6176\n",
            "Epoch 95/100\n",
            "9369/9369 [==============================] - 0s 37us/sample - loss: 0.8913 - acc: 0.6256 - val_loss: 0.8976 - val_acc: 0.6176\n",
            "Epoch 96/100\n",
            "9369/9369 [==============================] - 0s 42us/sample - loss: 0.8913 - acc: 0.6256 - val_loss: 0.8988 - val_acc: 0.6176\n",
            "Epoch 97/100\n",
            "9369/9369 [==============================] - 0s 38us/sample - loss: 0.8917 - acc: 0.6256 - val_loss: 0.8988 - val_acc: 0.6176\n",
            "Epoch 98/100\n",
            "9369/9369 [==============================] - 0s 38us/sample - loss: 0.8915 - acc: 0.6256 - val_loss: 0.8988 - val_acc: 0.6176\n",
            "Epoch 99/100\n",
            "9369/9369 [==============================] - 0s 42us/sample - loss: 0.8921 - acc: 0.6256 - val_loss: 0.8991 - val_acc: 0.6176\n",
            "Epoch 100/100\n",
            "9369/9369 [==============================] - 0s 37us/sample - loss: 0.8924 - acc: 0.6256 - val_loss: 0.8993 - val_acc: 0.6176\n"
          ],
          "name": "stdout"
        }
      ]
    },
    {
      "cell_type": "code",
      "metadata": {
        "colab_type": "code",
        "outputId": "7f2b61e9-2dd1-4d1a-804c-12105689c4f2",
        "id": "ErZhUCNkiiBR",
        "colab": {
          "base_uri": "https://localhost:8080/",
          "height": 51
        }
      },
      "source": [
        "\n",
        "# Find train and test accuracy\n",
        "loss, accuracy = lstm_mod3.evaluate(X_train, y_train, verbose=False)\n",
        "print(\"Training Accuracy: {:.4f}\".format(accuracy))\n",
        "loss, accuracy = lstm_mod3.evaluate(X_test, y_test, verbose=False)\n",
        "print(\"Testing Accuracy:  {:.4f}\".format(accuracy))"
      ],
      "execution_count": 40,
      "outputs": [
        {
          "output_type": "stream",
          "text": [
            "Training Accuracy: 0.6240\n",
            "Testing Accuracy:  0.6387\n"
          ],
          "name": "stdout"
        }
      ]
    },
    {
      "cell_type": "code",
      "metadata": {
        "colab_type": "code",
        "outputId": "bd81ecc7-b6d9-4c8f-c84e-5cdbb4cb0bb9",
        "id": "2bPzZeMBiiBX",
        "colab": {
          "base_uri": "https://localhost:8080/",
          "height": 655
        }
      },
      "source": [
        "acc = hist_3.history['acc']\n",
        "val_acc = hist_3.history['val_acc']\n",
        "loss = hist_3.history['loss']\n",
        "val_loss = hist_3.history['val_loss']\n",
        "\n",
        "epochs = range(len(acc))\n",
        "\n",
        "plt.plot(epochs, acc, label='Training acc')\n",
        "plt.plot(epochs, val_acc, label='Validation acc')\n",
        "plt.title('Training and validation accuracy')\n",
        "plt.legend()\n",
        "\n",
        "plt.figure()\n",
        "\n",
        "plt.plot(epochs, loss, label='Training loss')\n",
        "plt.plot(epochs, val_loss, label='Validation loss')\n",
        "plt.title('Training and validation loss')\n",
        "plt.legend()\n",
        "\n",
        "plt.show()"
      ],
      "execution_count": 41,
      "outputs": [
        {
          "output_type": "display_data",
          "data": {
            "image/png": "[encoded data removed]",
            "text/plain": [
              "<Figure size 504x360 with 1 Axes>"
            ]
          },
          "metadata": {
            "tags": []
          }
        },
        {
          "output_type": "display_data",
          "data": {
            "image/png": "[encoded data removed]",
            "text/plain": [
              "<Figure size 504x360 with 1 Axes>"
            ]
          },
          "metadata": {
            "tags": []
          }
        }
      ]
    },
    {
      "cell_type": "markdown",
      "metadata": {
        "id": "ra5M0iZBAi9y",
        "colab_type": "text"
      },
      "source": [
        ""
      ]
    },
    {
      "cell_type": "code",
      "metadata": {
        "id": "FPlf5KOJtdoE",
        "colab_type": "code",
        "colab": {}
      },
      "source": [
        "mod = Sequential()\n",
        "mod.add(embedding_layer)\n",
        "mod.add(Conv1D(128, 5, activation='relu'))\n",
        "mod.add(Conv1D(128, 5, activation='relu'))\n",
        "mod.add(Conv1D(128, 5, activation='relu'))\n",
        "mod.add(SimpleRNN(64))\n",
        "mod.add(Dense(3, activation='sigmoid'))\n",
        "mod.compile(optimizer='adam', loss='categorical_crossentropy', metrics=['acc'])"
      ],
      "execution_count": 0,
      "outputs": []
    },
    {
      "cell_type": "code",
      "metadata": {
        "id": "2hhMMvaUuA6C",
        "colab_type": "code",
        "outputId": "6064c054-ddf5-40d6-9e0a-c42ddfc13535",
        "colab": {
          "base_uri": "https://localhost:8080/",
          "height": 1000
        }
      },
      "source": [
        "hist_5 = mod.fit(X_train, y_train,\n",
        "                    validation_split = 0.2,\n",
        "                    epochs=100, batch_size=256)"
      ],
      "execution_count": 43,
      "outputs": [
        {
          "output_type": "stream",
          "text": [
            "Train on 9369 samples, validate on 2343 samples\n",
            "Epoch 1/100\n",
            "9369/9369 [==============================] - 1s 89us/sample - loss: 0.8592 - acc: 0.6273 - val_loss: 0.8482 - val_acc: 0.6287\n",
            "Epoch 2/100\n",
            "9369/9369 [==============================] - 0s 43us/sample - loss: 0.8283 - acc: 0.6524 - val_loss: 0.8108 - val_acc: 0.6637\n",
            "Epoch 3/100\n",
            "9369/9369 [==============================] - 0s 45us/sample - loss: 0.7783 - acc: 0.6757 - val_loss: 0.7738 - val_acc: 0.6598\n",
            "Epoch 4/100\n",
            "9369/9369 [==============================] - 0s 44us/sample - loss: 0.7084 - acc: 0.7128 - val_loss: 0.7365 - val_acc: 0.6927\n",
            "Epoch 5/100\n",
            "9369/9369 [==============================] - 0s 45us/sample - loss: 0.6116 - acc: 0.7557 - val_loss: 0.6459 - val_acc: 0.7426\n",
            "Epoch 6/100\n",
            "9369/9369 [==============================] - 0s 43us/sample - loss: 0.5246 - acc: 0.7930 - val_loss: 0.6271 - val_acc: 0.7516\n",
            "Epoch 7/100\n",
            "9369/9369 [==============================] - 0s 44us/sample - loss: 0.5165 - acc: 0.7962 - val_loss: 0.6679 - val_acc: 0.7230\n",
            "Epoch 8/100\n",
            "9369/9369 [==============================] - 0s 44us/sample - loss: 0.3874 - acc: 0.8601 - val_loss: 0.6594 - val_acc: 0.7499\n",
            "Epoch 9/100\n",
            "9369/9369 [==============================] - 0s 43us/sample - loss: 0.3084 - acc: 0.8924 - val_loss: 0.6773 - val_acc: 0.7550\n",
            "Epoch 10/100\n",
            "9369/9369 [==============================] - 0s 43us/sample - loss: 0.2739 - acc: 0.9035 - val_loss: 0.7104 - val_acc: 0.7512\n",
            "Epoch 11/100\n",
            "9369/9369 [==============================] - 0s 44us/sample - loss: 0.2031 - acc: 0.9375 - val_loss: 0.7961 - val_acc: 0.7507\n",
            "Epoch 12/100\n",
            "9369/9369 [==============================] - 0s 44us/sample - loss: 0.1794 - acc: 0.9439 - val_loss: 0.8142 - val_acc: 0.7657\n",
            "Epoch 13/100\n",
            "9369/9369 [==============================] - 0s 43us/sample - loss: 0.1283 - acc: 0.9632 - val_loss: 0.8357 - val_acc: 0.7371\n",
            "Epoch 14/100\n",
            "9369/9369 [==============================] - 0s 45us/sample - loss: 0.0947 - acc: 0.9757 - val_loss: 0.9059 - val_acc: 0.7307\n",
            "Epoch 15/100\n",
            "9369/9369 [==============================] - 0s 44us/sample - loss: 0.1006 - acc: 0.9715 - val_loss: 1.0055 - val_acc: 0.7529\n",
            "Epoch 16/100\n",
            "9369/9369 [==============================] - 0s 41us/sample - loss: 0.0834 - acc: 0.9756 - val_loss: 1.0135 - val_acc: 0.7550\n",
            "Epoch 17/100\n",
            "9369/9369 [==============================] - 0s 41us/sample - loss: 0.0753 - acc: 0.9776 - val_loss: 0.9663 - val_acc: 0.7426\n",
            "Epoch 18/100\n",
            "9369/9369 [==============================] - 0s 42us/sample - loss: 0.0609 - acc: 0.9829 - val_loss: 1.0708 - val_acc: 0.7064\n",
            "Epoch 19/100\n",
            "9369/9369 [==============================] - 0s 42us/sample - loss: 0.0528 - acc: 0.9866 - val_loss: 1.0850 - val_acc: 0.7029\n",
            "Epoch 20/100\n",
            "9369/9369 [==============================] - 0s 42us/sample - loss: 0.0368 - acc: 0.9907 - val_loss: 1.0483 - val_acc: 0.7478\n",
            "Epoch 21/100\n",
            "9369/9369 [==============================] - 0s 41us/sample - loss: 0.0300 - acc: 0.9921 - val_loss: 1.1072 - val_acc: 0.7290\n",
            "Epoch 22/100\n",
            "9369/9369 [==============================] - 0s 43us/sample - loss: 0.0335 - acc: 0.9906 - val_loss: 1.1214 - val_acc: 0.7546\n",
            "Epoch 23/100\n",
            "9369/9369 [==============================] - 0s 42us/sample - loss: 0.0365 - acc: 0.9894 - val_loss: 1.1476 - val_acc: 0.7277\n",
            "Epoch 24/100\n",
            "9369/9369 [==============================] - 0s 42us/sample - loss: 0.0791 - acc: 0.9747 - val_loss: 1.1130 - val_acc: 0.7443\n",
            "Epoch 25/100\n",
            "9369/9369 [==============================] - 0s 43us/sample - loss: 0.0769 - acc: 0.9744 - val_loss: 1.2159 - val_acc: 0.7068\n",
            "Epoch 26/100\n",
            "9369/9369 [==============================] - 0s 43us/sample - loss: 0.0783 - acc: 0.9736 - val_loss: 1.1495 - val_acc: 0.6991\n",
            "Epoch 27/100\n",
            "9369/9369 [==============================] - 0s 42us/sample - loss: 0.0630 - acc: 0.9803 - val_loss: 1.1037 - val_acc: 0.7358\n",
            "Epoch 28/100\n",
            "9369/9369 [==============================] - 0s 44us/sample - loss: 0.0349 - acc: 0.9901 - val_loss: 1.1519 - val_acc: 0.7303\n",
            "Epoch 29/100\n",
            "9369/9369 [==============================] - 0s 42us/sample - loss: 0.0250 - acc: 0.9931 - val_loss: 1.1867 - val_acc: 0.7273\n",
            "Epoch 30/100\n",
            "9369/9369 [==============================] - 0s 42us/sample - loss: 0.0180 - acc: 0.9953 - val_loss: 1.1603 - val_acc: 0.7324\n",
            "Epoch 31/100\n",
            "9369/9369 [==============================] - 0s 42us/sample - loss: 0.0152 - acc: 0.9956 - val_loss: 1.2255 - val_acc: 0.7473\n",
            "Epoch 32/100\n",
            "9369/9369 [==============================] - 0s 43us/sample - loss: 0.0146 - acc: 0.9955 - val_loss: 1.2259 - val_acc: 0.7426\n",
            "Epoch 33/100\n",
            "9369/9369 [==============================] - 0s 42us/sample - loss: 0.0134 - acc: 0.9957 - val_loss: 1.2197 - val_acc: 0.7371\n",
            "Epoch 34/100\n",
            "9369/9369 [==============================] - 0s 42us/sample - loss: 0.0132 - acc: 0.9957 - val_loss: 1.2714 - val_acc: 0.7529\n",
            "Epoch 35/100\n",
            "9369/9369 [==============================] - 0s 42us/sample - loss: 0.0128 - acc: 0.9958 - val_loss: 1.2859 - val_acc: 0.7473\n",
            "Epoch 36/100\n",
            "9369/9369 [==============================] - 0s 41us/sample - loss: 0.0121 - acc: 0.9959 - val_loss: 1.2868 - val_acc: 0.7499\n",
            "Epoch 37/100\n",
            "9369/9369 [==============================] - 0s 42us/sample - loss: 0.0119 - acc: 0.9959 - val_loss: 1.3051 - val_acc: 0.7512\n",
            "Epoch 38/100\n",
            "9369/9369 [==============================] - 0s 42us/sample - loss: 0.0115 - acc: 0.9962 - val_loss: 1.3542 - val_acc: 0.7435\n",
            "Epoch 39/100\n",
            "9369/9369 [==============================] - 0s 42us/sample - loss: 0.0198 - acc: 0.9936 - val_loss: 1.4057 - val_acc: 0.7490\n",
            "Epoch 40/100\n",
            "9369/9369 [==============================] - 0s 43us/sample - loss: 0.0471 - acc: 0.9838 - val_loss: 1.2750 - val_acc: 0.7239\n",
            "Epoch 41/100\n",
            "9369/9369 [==============================] - 0s 40us/sample - loss: 0.0734 - acc: 0.9773 - val_loss: 1.2631 - val_acc: 0.7175\n",
            "Epoch 42/100\n",
            "9369/9369 [==============================] - 0s 43us/sample - loss: 0.0390 - acc: 0.9872 - val_loss: 1.2851 - val_acc: 0.7405\n",
            "Epoch 43/100\n",
            "9369/9369 [==============================] - 0s 41us/sample - loss: 0.0379 - acc: 0.9874 - val_loss: 1.3572 - val_acc: 0.7499\n",
            "Epoch 44/100\n",
            "9369/9369 [==============================] - 0s 42us/sample - loss: 0.0259 - acc: 0.9920 - val_loss: 1.2849 - val_acc: 0.7379\n",
            "Epoch 45/100\n",
            "9369/9369 [==============================] - 0s 41us/sample - loss: 0.0257 - acc: 0.9918 - val_loss: 1.2802 - val_acc: 0.7516\n",
            "Epoch 46/100\n",
            "9369/9369 [==============================] - 0s 42us/sample - loss: 0.0285 - acc: 0.9903 - val_loss: 1.2313 - val_acc: 0.7503\n",
            "Epoch 47/100\n",
            "9369/9369 [==============================] - 0s 41us/sample - loss: 0.0238 - acc: 0.9924 - val_loss: 1.3103 - val_acc: 0.7247\n",
            "Epoch 48/100\n",
            "9369/9369 [==============================] - 0s 43us/sample - loss: 0.0403 - acc: 0.9875 - val_loss: 1.3153 - val_acc: 0.7443\n",
            "Epoch 49/100\n",
            "9369/9369 [==============================] - 0s 42us/sample - loss: 0.0822 - acc: 0.9710 - val_loss: 1.2817 - val_acc: 0.7119\n",
            "Epoch 50/100\n",
            "9369/9369 [==============================] - 0s 43us/sample - loss: 0.0450 - acc: 0.9848 - val_loss: 1.3398 - val_acc: 0.6893\n",
            "Epoch 51/100\n",
            "9369/9369 [==============================] - 0s 42us/sample - loss: 0.0333 - acc: 0.9898 - val_loss: 1.2563 - val_acc: 0.7431\n",
            "Epoch 52/100\n",
            "9369/9369 [==============================] - 0s 42us/sample - loss: 0.0216 - acc: 0.9928 - val_loss: 1.3772 - val_acc: 0.6983\n",
            "Epoch 53/100\n",
            "9369/9369 [==============================] - 0s 42us/sample - loss: 0.0185 - acc: 0.9937 - val_loss: 1.3589 - val_acc: 0.7384\n",
            "Epoch 54/100\n",
            "9369/9369 [==============================] - 0s 41us/sample - loss: 0.0123 - acc: 0.9957 - val_loss: 1.3702 - val_acc: 0.7456\n",
            "Epoch 55/100\n",
            "9369/9369 [==============================] - 0s 42us/sample - loss: 0.0114 - acc: 0.9962 - val_loss: 1.3694 - val_acc: 0.7443\n",
            "Epoch 56/100\n",
            "9369/9369 [==============================] - 0s 42us/sample - loss: 0.0111 - acc: 0.9966 - val_loss: 1.3920 - val_acc: 0.7461\n",
            "Epoch 57/100\n",
            "9369/9369 [==============================] - 0s 41us/sample - loss: 0.0095 - acc: 0.9962 - val_loss: 1.3816 - val_acc: 0.7478\n",
            "Epoch 58/100\n",
            "9369/9369 [==============================] - 0s 42us/sample - loss: 0.0096 - acc: 0.9962 - val_loss: 1.4209 - val_acc: 0.7452\n",
            "Epoch 59/100\n",
            "9369/9369 [==============================] - 0s 41us/sample - loss: 0.0099 - acc: 0.9959 - val_loss: 1.3764 - val_acc: 0.7482\n",
            "Epoch 60/100\n",
            "9369/9369 [==============================] - 0s 41us/sample - loss: 0.0094 - acc: 0.9965 - val_loss: 1.4458 - val_acc: 0.7443\n",
            "Epoch 61/100\n",
            "9369/9369 [==============================] - 0s 44us/sample - loss: 0.0087 - acc: 0.9965 - val_loss: 1.3993 - val_acc: 0.7465\n",
            "Epoch 62/100\n",
            "9369/9369 [==============================] - 0s 42us/sample - loss: 0.0087 - acc: 0.9964 - val_loss: 1.4350 - val_acc: 0.7443\n",
            "Epoch 63/100\n",
            "9369/9369 [==============================] - 0s 45us/sample - loss: 0.0092 - acc: 0.9962 - val_loss: 1.4372 - val_acc: 0.7431\n",
            "Epoch 64/100\n",
            "9369/9369 [==============================] - 0s 41us/sample - loss: 0.0086 - acc: 0.9965 - val_loss: 1.4219 - val_acc: 0.7414\n",
            "Epoch 65/100\n",
            "9369/9369 [==============================] - 0s 41us/sample - loss: 0.0094 - acc: 0.9962 - val_loss: 1.4682 - val_acc: 0.7435\n",
            "Epoch 66/100\n",
            "9369/9369 [==============================] - 0s 43us/sample - loss: 0.0087 - acc: 0.9966 - val_loss: 1.4859 - val_acc: 0.7371\n",
            "Epoch 67/100\n",
            "9369/9369 [==============================] - 0s 41us/sample - loss: 0.0083 - acc: 0.9965 - val_loss: 1.4435 - val_acc: 0.7409\n",
            "Epoch 68/100\n",
            "9369/9369 [==============================] - 0s 45us/sample - loss: 0.0083 - acc: 0.9964 - val_loss: 1.4958 - val_acc: 0.7422\n",
            "Epoch 69/100\n",
            "9369/9369 [==============================] - 0s 42us/sample - loss: 0.0084 - acc: 0.9968 - val_loss: 1.5375 - val_acc: 0.7362\n",
            "Epoch 70/100\n",
            "9369/9369 [==============================] - 0s 43us/sample - loss: 0.0082 - acc: 0.9966 - val_loss: 1.5233 - val_acc: 0.7448\n",
            "Epoch 71/100\n",
            "9369/9369 [==============================] - 0s 43us/sample - loss: 0.0100 - acc: 0.9963 - val_loss: 1.4715 - val_acc: 0.7371\n",
            "Epoch 72/100\n",
            "9369/9369 [==============================] - 0s 41us/sample - loss: 0.0107 - acc: 0.9956 - val_loss: 1.5380 - val_acc: 0.7337\n",
            "Epoch 73/100\n",
            "9369/9369 [==============================] - 0s 42us/sample - loss: 0.0099 - acc: 0.9964 - val_loss: 1.4308 - val_acc: 0.7324\n",
            "Epoch 74/100\n",
            "9369/9369 [==============================] - 0s 41us/sample - loss: 0.0105 - acc: 0.9958 - val_loss: 1.4499 - val_acc: 0.7371\n",
            "Epoch 75/100\n",
            "9369/9369 [==============================] - 0s 42us/sample - loss: 0.0114 - acc: 0.9952 - val_loss: 1.5703 - val_acc: 0.7260\n",
            "Epoch 76/100\n",
            "9369/9369 [==============================] - 0s 43us/sample - loss: 0.0208 - acc: 0.9926 - val_loss: 1.5966 - val_acc: 0.6876\n",
            "Epoch 77/100\n",
            "9369/9369 [==============================] - 0s 41us/sample - loss: 0.2168 - acc: 0.9386 - val_loss: 1.2545 - val_acc: 0.6901\n",
            "Epoch 78/100\n",
            "9369/9369 [==============================] - 0s 43us/sample - loss: 0.1280 - acc: 0.9562 - val_loss: 1.1205 - val_acc: 0.7456\n",
            "Epoch 79/100\n",
            "9369/9369 [==============================] - 0s 40us/sample - loss: 0.0452 - acc: 0.9852 - val_loss: 1.1930 - val_acc: 0.7303\n",
            "Epoch 80/100\n",
            "9369/9369 [==============================] - 0s 43us/sample - loss: 0.0245 - acc: 0.9926 - val_loss: 1.2363 - val_acc: 0.7367\n",
            "Epoch 81/100\n",
            "9369/9369 [==============================] - 0s 43us/sample - loss: 0.0129 - acc: 0.9961 - val_loss: 1.3123 - val_acc: 0.7426\n",
            "Epoch 82/100\n",
            "9369/9369 [==============================] - 0s 41us/sample - loss: 0.0109 - acc: 0.9958 - val_loss: 1.3445 - val_acc: 0.7426\n",
            "Epoch 83/100\n",
            "9369/9369 [==============================] - 0s 43us/sample - loss: 0.0095 - acc: 0.9961 - val_loss: 1.3692 - val_acc: 0.7431\n",
            "Epoch 84/100\n",
            "9369/9369 [==============================] - 0s 40us/sample - loss: 0.0091 - acc: 0.9965 - val_loss: 1.3692 - val_acc: 0.7516\n",
            "Epoch 85/100\n",
            "9369/9369 [==============================] - 0s 41us/sample - loss: 0.0087 - acc: 0.9959 - val_loss: 1.3944 - val_acc: 0.7452\n",
            "Epoch 86/100\n",
            "9369/9369 [==============================] - 0s 41us/sample - loss: 0.0086 - acc: 0.9967 - val_loss: 1.4142 - val_acc: 0.7461\n",
            "Epoch 87/100\n",
            "9369/9369 [==============================] - 0s 42us/sample - loss: 0.0083 - acc: 0.9966 - val_loss: 1.4475 - val_acc: 0.7550\n",
            "Epoch 88/100\n",
            "9369/9369 [==============================] - 0s 42us/sample - loss: 0.0086 - acc: 0.9967 - val_loss: 1.4663 - val_acc: 0.7546\n",
            "Epoch 89/100\n",
            "9369/9369 [==============================] - 0s 42us/sample - loss: 0.0085 - acc: 0.9965 - val_loss: 1.4573 - val_acc: 0.7439\n",
            "Epoch 90/100\n",
            "9369/9369 [==============================] - 0s 41us/sample - loss: 0.0086 - acc: 0.9962 - val_loss: 1.4653 - val_acc: 0.7435\n",
            "Epoch 91/100\n",
            "9369/9369 [==============================] - 0s 42us/sample - loss: 0.0080 - acc: 0.9967 - val_loss: 1.4810 - val_acc: 0.7554\n",
            "Epoch 92/100\n",
            "9369/9369 [==============================] - 0s 39us/sample - loss: 0.0083 - acc: 0.9968 - val_loss: 1.4819 - val_acc: 0.7482\n",
            "Epoch 93/100\n",
            "9369/9369 [==============================] - 0s 40us/sample - loss: 0.0088 - acc: 0.9965 - val_loss: 1.4815 - val_acc: 0.7580\n",
            "Epoch 94/100\n",
            "9369/9369 [==============================] - 0s 41us/sample - loss: 0.0082 - acc: 0.9965 - val_loss: 1.5061 - val_acc: 0.7533\n",
            "Epoch 95/100\n",
            "9369/9369 [==============================] - 0s 41us/sample - loss: 0.0079 - acc: 0.9966 - val_loss: 1.5180 - val_acc: 0.7512\n",
            "Epoch 96/100\n",
            "9369/9369 [==============================] - 0s 40us/sample - loss: 0.0078 - acc: 0.9965 - val_loss: 1.5119 - val_acc: 0.7525\n",
            "Epoch 97/100\n",
            "9369/9369 [==============================] - 0s 41us/sample - loss: 0.0075 - acc: 0.9963 - val_loss: 1.5322 - val_acc: 0.7512\n",
            "Epoch 98/100\n",
            "9369/9369 [==============================] - 0s 41us/sample - loss: 0.0078 - acc: 0.9963 - val_loss: 1.5340 - val_acc: 0.7520\n",
            "Epoch 99/100\n",
            "9369/9369 [==============================] - 0s 42us/sample - loss: 0.0075 - acc: 0.9969 - val_loss: 1.5437 - val_acc: 0.7452\n",
            "Epoch 100/100\n",
            "9369/9369 [==============================] - 0s 41us/sample - loss: 0.0079 - acc: 0.9967 - val_loss: 1.5410 - val_acc: 0.7529\n"
          ],
          "name": "stdout"
        }
      ]
    },
    {
      "cell_type": "code",
      "metadata": {
        "id": "8FtqsYxquDzW",
        "colab_type": "code",
        "outputId": "e1f7a3fc-b320-4cee-e685-2a98da7c47e7",
        "colab": {
          "base_uri": "https://localhost:8080/",
          "height": 357
        }
      },
      "source": [
        "mod.summary()"
      ],
      "execution_count": 44,
      "outputs": [
        {
          "output_type": "stream",
          "text": [
            "Model: \"sequential_3\"\n",
            "_________________________________________________________________\n",
            "Layer (type)                 Output Shape              Param #   \n",
            "=================================================================\n",
            "embedding (Embedding)        (None, 30, 100)           1577600   \n",
            "_________________________________________________________________\n",
            "conv1d_1 (Conv1D)            (None, 26, 128)           64128     \n",
            "_________________________________________________________________\n",
            "conv1d_2 (Conv1D)            (None, 22, 128)           82048     \n",
            "_________________________________________________________________\n",
            "conv1d_3 (Conv1D)            (None, 18, 128)           82048     \n",
            "_________________________________________________________________\n",
            "simple_rnn_1 (SimpleRNN)     (None, 64)                12352     \n",
            "_________________________________________________________________\n",
            "dense_4 (Dense)              (None, 3)                 195       \n",
            "=================================================================\n",
            "Total params: 1,818,371\n",
            "Trainable params: 240,771\n",
            "Non-trainable params: 1,577,600\n",
            "_________________________________________________________________\n"
          ],
          "name": "stdout"
        }
      ]
    },
    {
      "cell_type": "code",
      "metadata": {
        "id": "tYSJN_R7NmlM",
        "colab_type": "code",
        "outputId": "6e73b2fd-e598-4d66-ae4c-4bdb378697c6",
        "colab": {
          "base_uri": "https://localhost:8080/",
          "height": 51
        }
      },
      "source": [
        "loss, accuracy = mod.evaluate(X_train, y_train, verbose=False)\n",
        "print(\"Training Accuracy: {:.4f}\".format(accuracy))\n",
        "loss, accuracy = mod.evaluate(X_test, y_test, verbose=False)\n",
        "print(\"Testing Accuracy:  {:.4f}\".format(accuracy))"
      ],
      "execution_count": 45,
      "outputs": [
        {
          "output_type": "stream",
          "text": [
            "Training Accuracy: 0.9481\n",
            "Testing Accuracy:  0.7442\n"
          ],
          "name": "stdout"
        }
      ]
    },
    {
      "cell_type": "code",
      "metadata": {
        "id": "PwSucWK7Nz_G",
        "colab_type": "code",
        "outputId": "278893ec-8235-4af0-ac66-64e6fa472bdc",
        "colab": {
          "base_uri": "https://localhost:8080/",
          "height": 655
        }
      },
      "source": [
        "acc = hist_5.history['acc']\n",
        "val_acc = hist_5.history['val_acc']\n",
        "loss = hist_5.history['loss']\n",
        "val_loss = hist_5.history['val_loss']\n",
        "\n",
        "epochs = range(len(acc))\n",
        "\n",
        "plt.plot(epochs, acc, label='Training acc')\n",
        "plt.plot(epochs, val_acc, label='Validation acc')\n",
        "plt.title('Training and validation accuracy')\n",
        "plt.legend()\n",
        "\n",
        "plt.figure()\n",
        "\n",
        "plt.plot(epochs, loss, label='Training loss')\n",
        "plt.plot(epochs, val_loss, label='Validation loss')\n",
        "plt.title('Training and validation loss')\n",
        "plt.legend()\n",
        "\n",
        "plt.show()"
      ],
      "execution_count": 46,
      "outputs": [
        {
          "output_type": "display_data",
          "data": {
            "image/png": "[encoded data removed]",
            "text/plain": [
              "<Figure size 504x360 with 1 Axes>"
            ]
          },
          "metadata": {
            "tags": []
          }
        },
        {
          "output_type": "display_data",
          "data": {
            "image/png": "[encoded data removed]",
            "text/plain": [
              "<Figure size 504x360 with 1 Axes>"
            ]
          },
          "metadata": {
            "tags": []
          }
        }
      ]
    },
    {
      "cell_type": "markdown",
      "metadata": {
        "id": "jKlr0Sj6PEwl",
        "colab_type": "text"
      },
      "source": [
        "# Naive Bayes using NLP"
      ]
    },
    {
      "cell_type": "code",
      "metadata": {
        "id": "4Yomt9Thjy_x",
        "colab_type": "code",
        "colab": {}
      },
      "source": [
        "pos = data.loc[data['airline_sentiment'].isin([1])]\n",
        "pos_tweets=pos.text.to_list()\n",
        "\n",
        "neg = data.loc[data['airline_sentiment'].isin([0])]\n",
        "neg_tweets=neg.text.to_list()\n",
        "\n",
        "neutral = data.loc[data['airline_sentiment'].isin([2])]\n",
        "neutral_tweets=neutral.text.to_list()"
      ],
      "execution_count": 0,
      "outputs": []
    },
    {
      "cell_type": "code",
      "metadata": {
        "id": "TXMNw9eGpOI2",
        "colab_type": "code",
        "outputId": "487cea05-d8e4-4643-c69b-8ea19e533d04",
        "colab": {
          "base_uri": "https://localhost:8080/",
          "height": 102
        }
      },
      "source": [
        "from nltk.tokenize import TweetTokenizer\n",
        "tweet_tokenizer = TweetTokenizer(preserve_case=False, strip_handles=True, reduce_len=True)\n",
        " \n",
        "for tweet in pos_tweets[:5]:\n",
        "    print (tweet_tokenizer.tokenize(tweet))"
      ],
      "execution_count": 48,
      "outputs": [
        {
          "output_type": "stream",
          "text": [
            "['=', 'what', 'said', '.']\n",
            "['i', \"didn't\", 'today', '...', 'must', 'mean', 'i', 'need', 'to', 'take', 'another', 'trip', '!']\n",
            "['really', 'missed', 'a', 'prime', 'opportunity', 'for', 'men', 'without', 'hats', 'parody', ',', 'there', '.', 'https://t.co/mWpG7grEZP']\n",
            "['did', 'you', 'know', 'that', 'suicide', 'is', 'the', 'second', 'leading', 'cause', 'of', 'death', 'among', 'teens', '10-24']\n",
            "['will', 'you', 'be', 'making', 'bos', '>', 'las', 'non', 'stop', 'permanently', 'anytime', 'soon', '?']\n"
          ],
          "name": "stdout"
        }
      ]
    },
    {
      "cell_type": "code",
      "metadata": {
        "id": "aiyXFfhjpojG",
        "colab_type": "code",
        "outputId": "de322861-2aa0-4f0b-c1f9-9943f591211d",
        "colab": {
          "base_uri": "https://localhost:8080/",
          "height": 68
        }
      },
      "source": [
        "import nltk\n",
        "nltk.download('stopwords')"
      ],
      "execution_count": 49,
      "outputs": [
        {
          "output_type": "stream",
          "text": [
            "[nltk_data] Downloading package stopwords to /root/nltk_data...\n",
            "[nltk_data]   Unzipping corpora/stopwords.zip.\n"
          ],
          "name": "stdout"
        },
        {
          "output_type": "execute_result",
          "data": {
            "text/plain": [
              "True"
            ]
          },
          "metadata": {
            "tags": []
          },
          "execution_count": 49
        }
      ]
    },
    {
      "cell_type": "code",
      "metadata": {
        "id": "2USj9upzpkCN",
        "colab_type": "code",
        "colab": {}
      },
      "source": [
        "import string\n",
        "import re\n",
        " \n",
        "from nltk.corpus import stopwords \n",
        "stopwords_english = stopwords.words('english')\n",
        " \n",
        "from nltk.stem import SnowballStemmer\n",
        "stemmer = SnowballStemmer(\"english\")\n",
        " \n",
        "from nltk.tokenize import TweetTokenizer"
      ],
      "execution_count": 0,
      "outputs": []
    },
    {
      "cell_type": "code",
      "metadata": {
        "id": "KMkAkMG4p0Sx",
        "colab_type": "code",
        "outputId": "dd8ea5a0-b202-4afe-cfa7-1c99609fd51b",
        "colab": {
          "base_uri": "https://localhost:8080/",
          "height": 130
        }
      },
      "source": [
        "emoticons_happy = set([\n",
        "    ':-)', ':)', ';)', ':o)', ':]', ':3', ':c)', ':>', '=]', '8)', '=)', ':}',\n",
        "    ':^)', ':-D', ':D', '8-D', '8D', 'x-D', 'xD', 'X-D', 'XD', '=-D', '=D',\n",
        "    '=-3', '=3', ':-))', \":'-)\", \":')\", ':*', ':^*', '>:P', ':-P', ':P', 'X-P',\n",
        "    'x-p', 'xp', 'XP', ':-p', ':p', '=p', ':-b', ':b', '>:)', '>;)', '>:-)',\n",
        "    '<3'\n",
        "    ])\n",
        "\n",
        "emoticons_sad = set([\n",
        "    ':L', ':-/', '>:/', ':S', '>:[', ':@', ':-(', ':[', ':-||', '=L', ':<',\n",
        "    ':-[', ':-<', '=\\\\', '=/', '>:(', ':(', '>.<', \":'-(\", \":'(\", ':\\\\', ':-c',\n",
        "    ':c', ':{', '>:\\\\', ';('\n",
        "    ])\n",
        " \n",
        "\n",
        "emoticons = emoticons_happy.union(emoticons_sad)\n",
        "\n",
        "def hashtags(tweet):\n",
        "        return list(filter(lambda token: token.startswith('#'), tweet.split())) \n",
        "\n",
        "def clean_tweets(tweet):\n",
        "    # remove stock market tickers like $GE\n",
        "    tweet = re.sub(r'\\$\\w*', '', tweet)\n",
        " \n",
        "    # remove retweet text \"RT\"\n",
        "    tweet = re.sub(r'^RT[\\s]+', '', tweet)\n",
        " \n",
        "    # remove hyperlinks\n",
        "    tweet = re.sub(r'https?:\\/\\/.*[\\r\\n]*', '', tweet)\n",
        "    \n",
        "    # remove hashtags\n",
        "      tweet = re.sub(r'#', '', tweet)\n",
        "   \n",
        "    # tokenize tweets\n",
        "    tokenizer = TweetTokenizer(preserve_case=False, strip_handles=True, reduce_len=True)\n",
        "    tweet_tokens = tokenizer.tokenize(tweet)\n",
        " \n",
        "    tweets_clean = []    \n",
        "    for word in tweet_tokens:\n",
        "        if (word not in stopwords_english and # remove stopwords\n",
        "              word not in emoticons and # remove emoticons\n",
        "                word not in string.punctuation): # remove punctuation\n",
        "            \n",
        "            stem_word = stemmer.stem(word) # stemming word\n",
        "            tweets_clean.append(stem_word)\n",
        " \n",
        "    return tweets_clean\n",
        " \n",
        "custom_tweet = \"RT @Twitter @online Hello There! Have a great day. :)\"\n",
        "print (clean_tweets(custom_tweet))\n",
        "print (pos_tweets[5])\n",
        "print (clean_tweets(pos_tweets[5]))"
      ],
      "execution_count": 51,
      "outputs": [
        {
          "output_type": "error",
          "ename": "IndentationError",
          "evalue": "ignored",
          "traceback": [
            "\u001b[0;36m  File \u001b[0;32m\"<ipython-input-51-66b1ec468a86>\"\u001b[0;36m, line \u001b[0;32m32\u001b[0m\n\u001b[0;31m    tweet = re.sub(r'#', '', tweet)\u001b[0m\n\u001b[0m    ^\u001b[0m\n\u001b[0;31mIndentationError\u001b[0m\u001b[0;31m:\u001b[0m unexpected indent\n"
          ]
        }
      ]
    },
    {
      "cell_type": "code",
      "metadata": {
        "id": "KiqU_n_lrPQ6",
        "colab_type": "code",
        "colab": {}
      },
      "source": [
        "def bag_of_words(tweet):\n",
        "    words = clean_tweets(tweet)\n",
        "    words_dictionary = dict([word, True] for word in words)    \n",
        "    return words_dictionary\n",
        " \n",
        "custom_tweet = \"RT @Twitter @online Hello There! Have a great day. :)\"\n",
        "print (bag_of_words(custom_tweet))\n",
        "\n",
        "# positive tweets feature set\n",
        "pos_tweets_set = []\n",
        "hashtag_bag=[]\n",
        "for tweet in pos_tweets:\n",
        "    hashtag_bag.append(hashtags(tweet))\n",
        "    pos_tweets_set.append((bag_of_words(tweet), 'pos'))    \n",
        " \n",
        "# negative tweets feature set\n",
        "neg_tweets_set = []\n",
        "for tweet in neg_tweets:\n",
        "    hashtag_bag.append(hashtags(tweet))\n",
        "    neg_tweets_set.append((bag_of_words(tweet), 'neg'))\n",
        "\n",
        "# negative tweets feature set\n",
        "neutral_tweets_set = []\n",
        "for tweet in neutral_tweets:\n",
        "    hashtag_bag.append(hashtags(tweet))\n",
        "    neutral_tweets_set.append((bag_of_words(tweet), 'neutral'))\n",
        " \n",
        "print (len(pos_tweets_set), len(neg_tweets_set), len(neutral_tweets_set))"
      ],
      "execution_count": 0,
      "outputs": []
    },
    {
      "cell_type": "code",
      "metadata": {
        "id": "8uLZhkTkr52m",
        "colab_type": "code",
        "colab": {}
      },
      "source": [
        "print(neg_tweets_set)"
      ],
      "execution_count": 0,
      "outputs": []
    },
    {
      "cell_type": "code",
      "metadata": {
        "id": "fsAwHa50vwih",
        "colab_type": "code",
        "colab": {}
      },
      "source": [
        "list2 = [x for x in hashtag_bag if x != []]\n",
        "print(list2)"
      ],
      "execution_count": 0,
      "outputs": []
    },
    {
      "cell_type": "code",
      "metadata": {
        "id": "wqMGnknkrjmc",
        "colab_type": "code",
        "colab": {}
      },
      "source": [
        "from random import shuffle \n",
        "shuffle(pos_tweets_set)\n",
        "shuffle(neg_tweets_set)\n",
        "shuffle(neutral_tweets_set)\n",
        " \n",
        "test_set = pos_tweets_set[:1000] + neg_tweets_set[:1000] \n",
        "train_set = pos_tweets_set[1000:] + neg_tweets_set[1000:]\n",
        " \n",
        "print(len(test_set),  len(train_set)) "
      ],
      "execution_count": 0,
      "outputs": []
    },
    {
      "cell_type": "code",
      "metadata": {
        "id": "CcnKT9G-rnCi",
        "colab_type": "code",
        "colab": {}
      },
      "source": [
        "from nltk import classify\n",
        "from nltk import NaiveBayesClassifier\n",
        " \n",
        "classifier = NaiveBayesClassifier.train(train_set)\n",
        "accuracy = classify.accuracy(classifier, test_set)\n",
        "print(accuracy)\n",
        "print (classifier.show_most_informative_features(10))    "
      ],
      "execution_count": 0,
      "outputs": []
    },
    {
      "cell_type": "code",
      "metadata": {
        "id": "GCNmlhC3rsTl",
        "colab_type": "code",
        "colab": {}
      },
      "source": [
        "custom_tweet = \"Being Human\"\n",
        "custom_tweet_set = bag_of_words(custom_tweet)\n",
        "print (classifier.classify(custom_tweet_set)) \n",
        " \n",
        "# probability result\n",
        "prob_result = classifier.prob_classify(custom_tweet_set)\n",
        "print (prob_result) \n",
        "print (prob_result.max())\n",
        "print (prob_result.prob(\"neg\"))\n",
        "print (prob_result.prob(\"pos\"))\n",
        " "
      ],
      "execution_count": 0,
      "outputs": []
    },
    {
      "cell_type": "code",
      "metadata": {
        "id": "N44ka6TUeHa_",
        "colab_type": "code",
        "colab": {}
      },
      "source": [
        "from wordcloud import WordCloud, STOPWORDS \n",
        "import matplotlib.pyplot as plt \n",
        "import pandas as pd \n",
        "import numpy as np\n",
        "import re"
      ],
      "execution_count": 0,
      "outputs": []
    },
    {
      "cell_type": "code",
      "metadata": {
        "id": "FUIBb0x1UtpR",
        "colab_type": "code",
        "colab": {}
      },
      "source": [
        "def remove_pattern(input_txt, pattern):\n",
        "    r = re.findall(pattern, input_txt)\n",
        "    for i in r:\n",
        "        input_txt = re.sub(i, '', input_txt)\n",
        "        \n",
        "    return input_txt\n",
        "data['tidy_tweet'] = np.vectorize(remove_pattern)(data['text'], \"@[\\w]*\")\n",
        "# remove special characters, numbers, punctuations\n",
        "data['tidy_tweet'] = data['tidy_tweet'].str.replace(\"[^a-zA-Z#]\", \" \")\n",
        "# remove words less than 3 characters long\n",
        "data['tidy_tweet'] = data['tidy_tweet'].apply(lambda x: ' '.join([w for w in x.split() if len(w)>3]))\n",
        "stopwords = set(STOPWORDS)"
      ],
      "execution_count": 0,
      "outputs": []
    },
    {
      "cell_type": "code",
      "metadata": {
        "id": "4aCJYBT1Ueca",
        "colab_type": "code",
        "colab": {}
      },
      "source": [
        "pos1 = data.loc[data['airline_sentiment'].isin([2])]\n",
        "pos_high_conf=pos1.text.to_list()\n",
        "print(pos_high_conf[5])\n",
        "\n",
        "neg1 = data.loc[data['airline_sentiment'].isin([0])]\n",
        "neg_high_conf=neg1.text.to_list()\n",
        "print(neg_high_conf[5])\n",
        "\n",
        "neutral1 = data.loc[data['airline_sentiment'].isin([1])]\n",
        "neutral_high_conf=neutral1.text.to_list()\n",
        "print(neutral_high_conf[5])"
      ],
      "execution_count": 0,
      "outputs": []
    },
    {
      "cell_type": "code",
      "metadata": {
        "id": "N_uA1Si1f3ev",
        "colab_type": "code",
        "colab": {}
      },
      "source": [
        "neg1['tidy_tweet']"
      ],
      "execution_count": 0,
      "outputs": []
    },
    {
      "cell_type": "code",
      "metadata": {
        "id": "U6JzBM97eJZa",
        "colab_type": "code",
        "colab": {}
      },
      "source": [
        "wordcloud = WordCloud(\n",
        "                    background_color='white',\n",
        "                    stopwords=stopwords,\n",
        "                    max_words=75,\n",
        "                    max_font_size=40,\n",
        "                    random_state=42).generate(str(pos1['tidy_tweet']))\n",
        " \n",
        "print(wordcloud)\n",
        "fig = plt.figure(1, figsize=(10,5))\n",
        "plt.imshow(wordcloud, interpolation='bilinear', cmap='viridis')\n",
        "plt.axis('off')\n",
        "plt.show()"
      ],
      "execution_count": 0,
      "outputs": []
    },
    {
      "cell_type": "code",
      "metadata": {
        "id": "LJwN2pDbOl-B",
        "colab_type": "code",
        "colab": {}
      },
      "source": [
        "wordcloud1 = WordCloud(\n",
        "                    background_color='white',\n",
        "                    stopwords=stopwords,\n",
        "                    max_words=75,\n",
        "                    max_font_size=40,\n",
        "                    random_state=42).generate(str(neg1['tidy_tweet']))\n",
        " \n",
        "print(wordcloud1)\n",
        "fig = plt.figure(1, figsize=(10,5))\n",
        "plt.imshow(wordcloud1, interpolation='bilinear', cmap='viridis')\n",
        "plt.axis('off')\n",
        "plt.show()"
      ],
      "execution_count": 0,
      "outputs": []
    }
  ]
}